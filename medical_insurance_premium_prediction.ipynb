{
  "metadata": {
    "kernelspec": {
      "language": "python",
      "display_name": "Python 3",
      "name": "python3"
    },
    "language_info": {
      "name": "python",
      "version": "3.7.12",
      "mimetype": "text/x-python",
      "codemirror_mode": {
        "name": "ipython",
        "version": 3
      },
      "pygments_lexer": "ipython3",
      "nbconvert_exporter": "python",
      "file_extension": ".py"
    },
    "colab": {
      "provenance": [],
      "include_colab_link": true
    }
  },
  "nbformat_minor": 0,
  "nbformat": 4,
  "cells": [
    {
      "cell_type": "markdown",
      "metadata": {
        "id": "view-in-github",
        "colab_type": "text"
      },
      "source": [
        "<a href=\"https://colab.research.google.com/github/chakravarthipothureddy/medical_insurance-premiun/blob/main/medical_insurance_premium_prediction.ipynb\" target=\"_parent\"><img src=\"https://colab.research.google.com/assets/colab-badge.svg\" alt=\"Open In Colab\"/></a>"
      ]
    },
    {
      "cell_type": "markdown",
      "source": [
        "Import required libraries"
      ],
      "metadata": {
        "id": "PTlmLWStQEGy"
      }
    },
    {
      "cell_type": "code",
      "source": [
        "import pandas as pd\n",
        "import numpy as np\n",
        "import matplotlib.pyplot as plt\n",
        "import seaborn as sns"
      ],
      "metadata": {
        "execution": {
          "iopub.status.busy": "2023-03-04T10:32:50.790714Z",
          "iopub.execute_input": "2023-03-04T10:32:50.791230Z",
          "iopub.status.idle": "2023-03-04T10:32:50.797434Z",
          "shell.execute_reply.started": "2023-03-04T10:32:50.791181Z",
          "shell.execute_reply": "2023-03-04T10:32:50.795952Z"
        },
        "trusted": true,
        "id": "XvdXV_hCKfXs"
      },
      "execution_count": 1,
      "outputs": []
    },
    {
      "cell_type": "markdown",
      "source": [
        "Read the Data"
      ],
      "metadata": {
        "id": "hrtypczZQLVp"
      }
    },
    {
      "cell_type": "code",
      "source": [
        "df = pd.read_csv('/content/insurance.csv')"
      ],
      "metadata": {
        "execution": {
          "iopub.status.busy": "2023-03-04T10:32:52.868466Z",
          "iopub.execute_input": "2023-03-04T10:32:52.868883Z",
          "iopub.status.idle": "2023-03-04T10:32:52.881480Z",
          "shell.execute_reply.started": "2023-03-04T10:32:52.868840Z",
          "shell.execute_reply": "2023-03-04T10:32:52.879743Z"
        },
        "trusted": true,
        "id": "S7BfLh9QKfX0"
      },
      "execution_count": 2,
      "outputs": []
    },
    {
      "cell_type": "code",
      "source": [
        "df"
      ],
      "metadata": {
        "execution": {
          "iopub.status.busy": "2023-03-04T10:32:53.635850Z",
          "iopub.execute_input": "2023-03-04T10:32:53.636610Z",
          "iopub.status.idle": "2023-03-04T10:32:53.658913Z",
          "shell.execute_reply.started": "2023-03-04T10:32:53.636560Z",
          "shell.execute_reply": "2023-03-04T10:32:53.657428Z"
        },
        "trusted": true,
        "colab": {
          "base_uri": "https://localhost:8080/",
          "height": 423
        },
        "id": "ZUlzIEzOKfX2",
        "outputId": "24ec4c63-a93b-4ca1-fd63-9dad6d99eacc"
      },
      "execution_count": 3,
      "outputs": [
        {
          "output_type": "execute_result",
          "data": {
            "text/plain": [
              "      age     sex     bmi  children smoker     region      charges\n",
              "0      19  female  27.900         0    yes  southwest  16884.92400\n",
              "1      18    male  33.770         1     no  southeast   1725.55230\n",
              "2      28    male  33.000         3     no  southeast   4449.46200\n",
              "3      33    male  22.705         0     no  northwest  21984.47061\n",
              "4      32    male  28.880         0     no  northwest   3866.85520\n",
              "...   ...     ...     ...       ...    ...        ...          ...\n",
              "1333   50    male  30.970         3     no  northwest  10600.54830\n",
              "1334   18  female  31.920         0     no  northeast   2205.98080\n",
              "1335   18  female  36.850         0     no  southeast   1629.83350\n",
              "1336   21  female  25.800         0     no  southwest   2007.94500\n",
              "1337   61  female  29.070         0    yes  northwest  29141.36030\n",
              "\n",
              "[1338 rows x 7 columns]"
            ],
            "text/html": [
              "\n",
              "  <div id=\"df-e6612cff-2c58-4122-9563-aa59dd98890d\">\n",
              "    <div class=\"colab-df-container\">\n",
              "      <div>\n",
              "<style scoped>\n",
              "    .dataframe tbody tr th:only-of-type {\n",
              "        vertical-align: middle;\n",
              "    }\n",
              "\n",
              "    .dataframe tbody tr th {\n",
              "        vertical-align: top;\n",
              "    }\n",
              "\n",
              "    .dataframe thead th {\n",
              "        text-align: right;\n",
              "    }\n",
              "</style>\n",
              "<table border=\"1\" class=\"dataframe\">\n",
              "  <thead>\n",
              "    <tr style=\"text-align: right;\">\n",
              "      <th></th>\n",
              "      <th>age</th>\n",
              "      <th>sex</th>\n",
              "      <th>bmi</th>\n",
              "      <th>children</th>\n",
              "      <th>smoker</th>\n",
              "      <th>region</th>\n",
              "      <th>charges</th>\n",
              "    </tr>\n",
              "  </thead>\n",
              "  <tbody>\n",
              "    <tr>\n",
              "      <th>0</th>\n",
              "      <td>19</td>\n",
              "      <td>female</td>\n",
              "      <td>27.900</td>\n",
              "      <td>0</td>\n",
              "      <td>yes</td>\n",
              "      <td>southwest</td>\n",
              "      <td>16884.92400</td>\n",
              "    </tr>\n",
              "    <tr>\n",
              "      <th>1</th>\n",
              "      <td>18</td>\n",
              "      <td>male</td>\n",
              "      <td>33.770</td>\n",
              "      <td>1</td>\n",
              "      <td>no</td>\n",
              "      <td>southeast</td>\n",
              "      <td>1725.55230</td>\n",
              "    </tr>\n",
              "    <tr>\n",
              "      <th>2</th>\n",
              "      <td>28</td>\n",
              "      <td>male</td>\n",
              "      <td>33.000</td>\n",
              "      <td>3</td>\n",
              "      <td>no</td>\n",
              "      <td>southeast</td>\n",
              "      <td>4449.46200</td>\n",
              "    </tr>\n",
              "    <tr>\n",
              "      <th>3</th>\n",
              "      <td>33</td>\n",
              "      <td>male</td>\n",
              "      <td>22.705</td>\n",
              "      <td>0</td>\n",
              "      <td>no</td>\n",
              "      <td>northwest</td>\n",
              "      <td>21984.47061</td>\n",
              "    </tr>\n",
              "    <tr>\n",
              "      <th>4</th>\n",
              "      <td>32</td>\n",
              "      <td>male</td>\n",
              "      <td>28.880</td>\n",
              "      <td>0</td>\n",
              "      <td>no</td>\n",
              "      <td>northwest</td>\n",
              "      <td>3866.85520</td>\n",
              "    </tr>\n",
              "    <tr>\n",
              "      <th>...</th>\n",
              "      <td>...</td>\n",
              "      <td>...</td>\n",
              "      <td>...</td>\n",
              "      <td>...</td>\n",
              "      <td>...</td>\n",
              "      <td>...</td>\n",
              "      <td>...</td>\n",
              "    </tr>\n",
              "    <tr>\n",
              "      <th>1333</th>\n",
              "      <td>50</td>\n",
              "      <td>male</td>\n",
              "      <td>30.970</td>\n",
              "      <td>3</td>\n",
              "      <td>no</td>\n",
              "      <td>northwest</td>\n",
              "      <td>10600.54830</td>\n",
              "    </tr>\n",
              "    <tr>\n",
              "      <th>1334</th>\n",
              "      <td>18</td>\n",
              "      <td>female</td>\n",
              "      <td>31.920</td>\n",
              "      <td>0</td>\n",
              "      <td>no</td>\n",
              "      <td>northeast</td>\n",
              "      <td>2205.98080</td>\n",
              "    </tr>\n",
              "    <tr>\n",
              "      <th>1335</th>\n",
              "      <td>18</td>\n",
              "      <td>female</td>\n",
              "      <td>36.850</td>\n",
              "      <td>0</td>\n",
              "      <td>no</td>\n",
              "      <td>southeast</td>\n",
              "      <td>1629.83350</td>\n",
              "    </tr>\n",
              "    <tr>\n",
              "      <th>1336</th>\n",
              "      <td>21</td>\n",
              "      <td>female</td>\n",
              "      <td>25.800</td>\n",
              "      <td>0</td>\n",
              "      <td>no</td>\n",
              "      <td>southwest</td>\n",
              "      <td>2007.94500</td>\n",
              "    </tr>\n",
              "    <tr>\n",
              "      <th>1337</th>\n",
              "      <td>61</td>\n",
              "      <td>female</td>\n",
              "      <td>29.070</td>\n",
              "      <td>0</td>\n",
              "      <td>yes</td>\n",
              "      <td>northwest</td>\n",
              "      <td>29141.36030</td>\n",
              "    </tr>\n",
              "  </tbody>\n",
              "</table>\n",
              "<p>1338 rows × 7 columns</p>\n",
              "</div>\n",
              "      <button class=\"colab-df-convert\" onclick=\"convertToInteractive('df-e6612cff-2c58-4122-9563-aa59dd98890d')\"\n",
              "              title=\"Convert this dataframe to an interactive table.\"\n",
              "              style=\"display:none;\">\n",
              "        \n",
              "  <svg xmlns=\"http://www.w3.org/2000/svg\" height=\"24px\"viewBox=\"0 0 24 24\"\n",
              "       width=\"24px\">\n",
              "    <path d=\"M0 0h24v24H0V0z\" fill=\"none\"/>\n",
              "    <path d=\"M18.56 5.44l.94 2.06.94-2.06 2.06-.94-2.06-.94-.94-2.06-.94 2.06-2.06.94zm-11 1L8.5 8.5l.94-2.06 2.06-.94-2.06-.94L8.5 2.5l-.94 2.06-2.06.94zm10 10l.94 2.06.94-2.06 2.06-.94-2.06-.94-.94-2.06-.94 2.06-2.06.94z\"/><path d=\"M17.41 7.96l-1.37-1.37c-.4-.4-.92-.59-1.43-.59-.52 0-1.04.2-1.43.59L10.3 9.45l-7.72 7.72c-.78.78-.78 2.05 0 2.83L4 21.41c.39.39.9.59 1.41.59.51 0 1.02-.2 1.41-.59l7.78-7.78 2.81-2.81c.8-.78.8-2.07 0-2.86zM5.41 20L4 18.59l7.72-7.72 1.47 1.35L5.41 20z\"/>\n",
              "  </svg>\n",
              "      </button>\n",
              "      \n",
              "  <style>\n",
              "    .colab-df-container {\n",
              "      display:flex;\n",
              "      flex-wrap:wrap;\n",
              "      gap: 12px;\n",
              "    }\n",
              "\n",
              "    .colab-df-convert {\n",
              "      background-color: #E8F0FE;\n",
              "      border: none;\n",
              "      border-radius: 50%;\n",
              "      cursor: pointer;\n",
              "      display: none;\n",
              "      fill: #1967D2;\n",
              "      height: 32px;\n",
              "      padding: 0 0 0 0;\n",
              "      width: 32px;\n",
              "    }\n",
              "\n",
              "    .colab-df-convert:hover {\n",
              "      background-color: #E2EBFA;\n",
              "      box-shadow: 0px 1px 2px rgba(60, 64, 67, 0.3), 0px 1px 3px 1px rgba(60, 64, 67, 0.15);\n",
              "      fill: #174EA6;\n",
              "    }\n",
              "\n",
              "    [theme=dark] .colab-df-convert {\n",
              "      background-color: #3B4455;\n",
              "      fill: #D2E3FC;\n",
              "    }\n",
              "\n",
              "    [theme=dark] .colab-df-convert:hover {\n",
              "      background-color: #434B5C;\n",
              "      box-shadow: 0px 1px 3px 1px rgba(0, 0, 0, 0.15);\n",
              "      filter: drop-shadow(0px 1px 2px rgba(0, 0, 0, 0.3));\n",
              "      fill: #FFFFFF;\n",
              "    }\n",
              "  </style>\n",
              "\n",
              "      <script>\n",
              "        const buttonEl =\n",
              "          document.querySelector('#df-e6612cff-2c58-4122-9563-aa59dd98890d button.colab-df-convert');\n",
              "        buttonEl.style.display =\n",
              "          google.colab.kernel.accessAllowed ? 'block' : 'none';\n",
              "\n",
              "        async function convertToInteractive(key) {\n",
              "          const element = document.querySelector('#df-e6612cff-2c58-4122-9563-aa59dd98890d');\n",
              "          const dataTable =\n",
              "            await google.colab.kernel.invokeFunction('convertToInteractive',\n",
              "                                                     [key], {});\n",
              "          if (!dataTable) return;\n",
              "\n",
              "          const docLinkHtml = 'Like what you see? Visit the ' +\n",
              "            '<a target=\"_blank\" href=https://colab.research.google.com/notebooks/data_table.ipynb>data table notebook</a>'\n",
              "            + ' to learn more about interactive tables.';\n",
              "          element.innerHTML = '';\n",
              "          dataTable['output_type'] = 'display_data';\n",
              "          await google.colab.output.renderOutput(dataTable, element);\n",
              "          const docLink = document.createElement('div');\n",
              "          docLink.innerHTML = docLinkHtml;\n",
              "          element.appendChild(docLink);\n",
              "        }\n",
              "      </script>\n",
              "    </div>\n",
              "  </div>\n",
              "  "
            ]
          },
          "metadata": {},
          "execution_count": 3
        }
      ]
    },
    {
      "cell_type": "markdown",
      "source": [
        "Data Exploration"
      ],
      "metadata": {
        "id": "Rgo0GSkbKfX6"
      }
    },
    {
      "cell_type": "code",
      "source": [
        "df.head()"
      ],
      "metadata": {
        "execution": {
          "iopub.status.busy": "2023-03-04T10:32:55.943761Z",
          "iopub.execute_input": "2023-03-04T10:32:55.944181Z",
          "iopub.status.idle": "2023-03-04T10:32:55.959898Z",
          "shell.execute_reply.started": "2023-03-04T10:32:55.944149Z",
          "shell.execute_reply": "2023-03-04T10:32:55.958911Z"
        },
        "trusted": true,
        "colab": {
          "base_uri": "https://localhost:8080/",
          "height": 206
        },
        "id": "RdlfnKKBKfX-",
        "outputId": "09e1fcbb-5319-456c-b70d-76d464074521"
      },
      "execution_count": 4,
      "outputs": [
        {
          "output_type": "execute_result",
          "data": {
            "text/plain": [
              "   age     sex     bmi  children smoker     region      charges\n",
              "0   19  female  27.900         0    yes  southwest  16884.92400\n",
              "1   18    male  33.770         1     no  southeast   1725.55230\n",
              "2   28    male  33.000         3     no  southeast   4449.46200\n",
              "3   33    male  22.705         0     no  northwest  21984.47061\n",
              "4   32    male  28.880         0     no  northwest   3866.85520"
            ],
            "text/html": [
              "\n",
              "  <div id=\"df-a6c4b576-361a-48ca-b1a0-a4b09ae4b6b8\">\n",
              "    <div class=\"colab-df-container\">\n",
              "      <div>\n",
              "<style scoped>\n",
              "    .dataframe tbody tr th:only-of-type {\n",
              "        vertical-align: middle;\n",
              "    }\n",
              "\n",
              "    .dataframe tbody tr th {\n",
              "        vertical-align: top;\n",
              "    }\n",
              "\n",
              "    .dataframe thead th {\n",
              "        text-align: right;\n",
              "    }\n",
              "</style>\n",
              "<table border=\"1\" class=\"dataframe\">\n",
              "  <thead>\n",
              "    <tr style=\"text-align: right;\">\n",
              "      <th></th>\n",
              "      <th>age</th>\n",
              "      <th>sex</th>\n",
              "      <th>bmi</th>\n",
              "      <th>children</th>\n",
              "      <th>smoker</th>\n",
              "      <th>region</th>\n",
              "      <th>charges</th>\n",
              "    </tr>\n",
              "  </thead>\n",
              "  <tbody>\n",
              "    <tr>\n",
              "      <th>0</th>\n",
              "      <td>19</td>\n",
              "      <td>female</td>\n",
              "      <td>27.900</td>\n",
              "      <td>0</td>\n",
              "      <td>yes</td>\n",
              "      <td>southwest</td>\n",
              "      <td>16884.92400</td>\n",
              "    </tr>\n",
              "    <tr>\n",
              "      <th>1</th>\n",
              "      <td>18</td>\n",
              "      <td>male</td>\n",
              "      <td>33.770</td>\n",
              "      <td>1</td>\n",
              "      <td>no</td>\n",
              "      <td>southeast</td>\n",
              "      <td>1725.55230</td>\n",
              "    </tr>\n",
              "    <tr>\n",
              "      <th>2</th>\n",
              "      <td>28</td>\n",
              "      <td>male</td>\n",
              "      <td>33.000</td>\n",
              "      <td>3</td>\n",
              "      <td>no</td>\n",
              "      <td>southeast</td>\n",
              "      <td>4449.46200</td>\n",
              "    </tr>\n",
              "    <tr>\n",
              "      <th>3</th>\n",
              "      <td>33</td>\n",
              "      <td>male</td>\n",
              "      <td>22.705</td>\n",
              "      <td>0</td>\n",
              "      <td>no</td>\n",
              "      <td>northwest</td>\n",
              "      <td>21984.47061</td>\n",
              "    </tr>\n",
              "    <tr>\n",
              "      <th>4</th>\n",
              "      <td>32</td>\n",
              "      <td>male</td>\n",
              "      <td>28.880</td>\n",
              "      <td>0</td>\n",
              "      <td>no</td>\n",
              "      <td>northwest</td>\n",
              "      <td>3866.85520</td>\n",
              "    </tr>\n",
              "  </tbody>\n",
              "</table>\n",
              "</div>\n",
              "      <button class=\"colab-df-convert\" onclick=\"convertToInteractive('df-a6c4b576-361a-48ca-b1a0-a4b09ae4b6b8')\"\n",
              "              title=\"Convert this dataframe to an interactive table.\"\n",
              "              style=\"display:none;\">\n",
              "        \n",
              "  <svg xmlns=\"http://www.w3.org/2000/svg\" height=\"24px\"viewBox=\"0 0 24 24\"\n",
              "       width=\"24px\">\n",
              "    <path d=\"M0 0h24v24H0V0z\" fill=\"none\"/>\n",
              "    <path d=\"M18.56 5.44l.94 2.06.94-2.06 2.06-.94-2.06-.94-.94-2.06-.94 2.06-2.06.94zm-11 1L8.5 8.5l.94-2.06 2.06-.94-2.06-.94L8.5 2.5l-.94 2.06-2.06.94zm10 10l.94 2.06.94-2.06 2.06-.94-2.06-.94-.94-2.06-.94 2.06-2.06.94z\"/><path d=\"M17.41 7.96l-1.37-1.37c-.4-.4-.92-.59-1.43-.59-.52 0-1.04.2-1.43.59L10.3 9.45l-7.72 7.72c-.78.78-.78 2.05 0 2.83L4 21.41c.39.39.9.59 1.41.59.51 0 1.02-.2 1.41-.59l7.78-7.78 2.81-2.81c.8-.78.8-2.07 0-2.86zM5.41 20L4 18.59l7.72-7.72 1.47 1.35L5.41 20z\"/>\n",
              "  </svg>\n",
              "      </button>\n",
              "      \n",
              "  <style>\n",
              "    .colab-df-container {\n",
              "      display:flex;\n",
              "      flex-wrap:wrap;\n",
              "      gap: 12px;\n",
              "    }\n",
              "\n",
              "    .colab-df-convert {\n",
              "      background-color: #E8F0FE;\n",
              "      border: none;\n",
              "      border-radius: 50%;\n",
              "      cursor: pointer;\n",
              "      display: none;\n",
              "      fill: #1967D2;\n",
              "      height: 32px;\n",
              "      padding: 0 0 0 0;\n",
              "      width: 32px;\n",
              "    }\n",
              "\n",
              "    .colab-df-convert:hover {\n",
              "      background-color: #E2EBFA;\n",
              "      box-shadow: 0px 1px 2px rgba(60, 64, 67, 0.3), 0px 1px 3px 1px rgba(60, 64, 67, 0.15);\n",
              "      fill: #174EA6;\n",
              "    }\n",
              "\n",
              "    [theme=dark] .colab-df-convert {\n",
              "      background-color: #3B4455;\n",
              "      fill: #D2E3FC;\n",
              "    }\n",
              "\n",
              "    [theme=dark] .colab-df-convert:hover {\n",
              "      background-color: #434B5C;\n",
              "      box-shadow: 0px 1px 3px 1px rgba(0, 0, 0, 0.15);\n",
              "      filter: drop-shadow(0px 1px 2px rgba(0, 0, 0, 0.3));\n",
              "      fill: #FFFFFF;\n",
              "    }\n",
              "  </style>\n",
              "\n",
              "      <script>\n",
              "        const buttonEl =\n",
              "          document.querySelector('#df-a6c4b576-361a-48ca-b1a0-a4b09ae4b6b8 button.colab-df-convert');\n",
              "        buttonEl.style.display =\n",
              "          google.colab.kernel.accessAllowed ? 'block' : 'none';\n",
              "\n",
              "        async function convertToInteractive(key) {\n",
              "          const element = document.querySelector('#df-a6c4b576-361a-48ca-b1a0-a4b09ae4b6b8');\n",
              "          const dataTable =\n",
              "            await google.colab.kernel.invokeFunction('convertToInteractive',\n",
              "                                                     [key], {});\n",
              "          if (!dataTable) return;\n",
              "\n",
              "          const docLinkHtml = 'Like what you see? Visit the ' +\n",
              "            '<a target=\"_blank\" href=https://colab.research.google.com/notebooks/data_table.ipynb>data table notebook</a>'\n",
              "            + ' to learn more about interactive tables.';\n",
              "          element.innerHTML = '';\n",
              "          dataTable['output_type'] = 'display_data';\n",
              "          await google.colab.output.renderOutput(dataTable, element);\n",
              "          const docLink = document.createElement('div');\n",
              "          docLink.innerHTML = docLinkHtml;\n",
              "          element.appendChild(docLink);\n",
              "        }\n",
              "      </script>\n",
              "    </div>\n",
              "  </div>\n",
              "  "
            ]
          },
          "metadata": {},
          "execution_count": 4
        }
      ]
    },
    {
      "cell_type": "code",
      "source": [
        "df.shape"
      ],
      "metadata": {
        "execution": {
          "iopub.status.busy": "2023-03-04T10:32:56.762036Z",
          "iopub.execute_input": "2023-03-04T10:32:56.763264Z",
          "iopub.status.idle": "2023-03-04T10:32:56.770259Z",
          "shell.execute_reply.started": "2023-03-04T10:32:56.763224Z",
          "shell.execute_reply": "2023-03-04T10:32:56.768892Z"
        },
        "trusted": true,
        "colab": {
          "base_uri": "https://localhost:8080/"
        },
        "id": "wPFdUBHnKfYC",
        "outputId": "d38192d3-363a-46b7-ba24-3bcbdddbd58f"
      },
      "execution_count": 5,
      "outputs": [
        {
          "output_type": "execute_result",
          "data": {
            "text/plain": [
              "(1338, 7)"
            ]
          },
          "metadata": {},
          "execution_count": 5
        }
      ]
    },
    {
      "cell_type": "markdown",
      "source": [
        "Check the null values"
      ],
      "metadata": {
        "id": "m9CFxvimQPev"
      }
    },
    {
      "cell_type": "code",
      "source": [
        "df.isna().sum()"
      ],
      "metadata": {
        "execution": {
          "iopub.status.busy": "2023-03-04T10:32:57.543317Z",
          "iopub.execute_input": "2023-03-04T10:32:57.544534Z",
          "iopub.status.idle": "2023-03-04T10:32:57.555706Z",
          "shell.execute_reply.started": "2023-03-04T10:32:57.544481Z",
          "shell.execute_reply": "2023-03-04T10:32:57.554651Z"
        },
        "trusted": true,
        "colab": {
          "base_uri": "https://localhost:8080/"
        },
        "id": "3U_JOHD3KfYD",
        "outputId": "0c893d27-427a-4ea4-9d3c-e9ba674acfff"
      },
      "execution_count": 6,
      "outputs": [
        {
          "output_type": "execute_result",
          "data": {
            "text/plain": [
              "age         0\n",
              "sex         0\n",
              "bmi         0\n",
              "children    0\n",
              "smoker      0\n",
              "region      0\n",
              "charges     0\n",
              "dtype: int64"
            ]
          },
          "metadata": {},
          "execution_count": 6
        }
      ]
    },
    {
      "cell_type": "code",
      "source": [
        "#statistical summary\n",
        "df.describe()"
      ],
      "metadata": {
        "execution": {
          "iopub.status.busy": "2023-03-04T10:32:58.636411Z",
          "iopub.execute_input": "2023-03-04T10:32:58.637678Z",
          "iopub.status.idle": "2023-03-04T10:32:58.671735Z",
          "shell.execute_reply.started": "2023-03-04T10:32:58.637636Z",
          "shell.execute_reply": "2023-03-04T10:32:58.670173Z"
        },
        "trusted": true,
        "colab": {
          "base_uri": "https://localhost:8080/",
          "height": 300
        },
        "id": "s1PinpXVKfYE",
        "outputId": "faae34f7-3339-4d0a-8242-c0e617142432"
      },
      "execution_count": 7,
      "outputs": [
        {
          "output_type": "execute_result",
          "data": {
            "text/plain": [
              "               age          bmi     children       charges\n",
              "count  1338.000000  1338.000000  1338.000000   1338.000000\n",
              "mean     39.207025    30.663397     1.094918  13270.422265\n",
              "std      14.049960     6.098187     1.205493  12110.011237\n",
              "min      18.000000    15.960000     0.000000   1121.873900\n",
              "25%      27.000000    26.296250     0.000000   4740.287150\n",
              "50%      39.000000    30.400000     1.000000   9382.033000\n",
              "75%      51.000000    34.693750     2.000000  16639.912515\n",
              "max      64.000000    53.130000     5.000000  63770.428010"
            ],
            "text/html": [
              "\n",
              "  <div id=\"df-6795562d-5a54-4e91-a21f-bd3bf51963b0\">\n",
              "    <div class=\"colab-df-container\">\n",
              "      <div>\n",
              "<style scoped>\n",
              "    .dataframe tbody tr th:only-of-type {\n",
              "        vertical-align: middle;\n",
              "    }\n",
              "\n",
              "    .dataframe tbody tr th {\n",
              "        vertical-align: top;\n",
              "    }\n",
              "\n",
              "    .dataframe thead th {\n",
              "        text-align: right;\n",
              "    }\n",
              "</style>\n",
              "<table border=\"1\" class=\"dataframe\">\n",
              "  <thead>\n",
              "    <tr style=\"text-align: right;\">\n",
              "      <th></th>\n",
              "      <th>age</th>\n",
              "      <th>bmi</th>\n",
              "      <th>children</th>\n",
              "      <th>charges</th>\n",
              "    </tr>\n",
              "  </thead>\n",
              "  <tbody>\n",
              "    <tr>\n",
              "      <th>count</th>\n",
              "      <td>1338.000000</td>\n",
              "      <td>1338.000000</td>\n",
              "      <td>1338.000000</td>\n",
              "      <td>1338.000000</td>\n",
              "    </tr>\n",
              "    <tr>\n",
              "      <th>mean</th>\n",
              "      <td>39.207025</td>\n",
              "      <td>30.663397</td>\n",
              "      <td>1.094918</td>\n",
              "      <td>13270.422265</td>\n",
              "    </tr>\n",
              "    <tr>\n",
              "      <th>std</th>\n",
              "      <td>14.049960</td>\n",
              "      <td>6.098187</td>\n",
              "      <td>1.205493</td>\n",
              "      <td>12110.011237</td>\n",
              "    </tr>\n",
              "    <tr>\n",
              "      <th>min</th>\n",
              "      <td>18.000000</td>\n",
              "      <td>15.960000</td>\n",
              "      <td>0.000000</td>\n",
              "      <td>1121.873900</td>\n",
              "    </tr>\n",
              "    <tr>\n",
              "      <th>25%</th>\n",
              "      <td>27.000000</td>\n",
              "      <td>26.296250</td>\n",
              "      <td>0.000000</td>\n",
              "      <td>4740.287150</td>\n",
              "    </tr>\n",
              "    <tr>\n",
              "      <th>50%</th>\n",
              "      <td>39.000000</td>\n",
              "      <td>30.400000</td>\n",
              "      <td>1.000000</td>\n",
              "      <td>9382.033000</td>\n",
              "    </tr>\n",
              "    <tr>\n",
              "      <th>75%</th>\n",
              "      <td>51.000000</td>\n",
              "      <td>34.693750</td>\n",
              "      <td>2.000000</td>\n",
              "      <td>16639.912515</td>\n",
              "    </tr>\n",
              "    <tr>\n",
              "      <th>max</th>\n",
              "      <td>64.000000</td>\n",
              "      <td>53.130000</td>\n",
              "      <td>5.000000</td>\n",
              "      <td>63770.428010</td>\n",
              "    </tr>\n",
              "  </tbody>\n",
              "</table>\n",
              "</div>\n",
              "      <button class=\"colab-df-convert\" onclick=\"convertToInteractive('df-6795562d-5a54-4e91-a21f-bd3bf51963b0')\"\n",
              "              title=\"Convert this dataframe to an interactive table.\"\n",
              "              style=\"display:none;\">\n",
              "        \n",
              "  <svg xmlns=\"http://www.w3.org/2000/svg\" height=\"24px\"viewBox=\"0 0 24 24\"\n",
              "       width=\"24px\">\n",
              "    <path d=\"M0 0h24v24H0V0z\" fill=\"none\"/>\n",
              "    <path d=\"M18.56 5.44l.94 2.06.94-2.06 2.06-.94-2.06-.94-.94-2.06-.94 2.06-2.06.94zm-11 1L8.5 8.5l.94-2.06 2.06-.94-2.06-.94L8.5 2.5l-.94 2.06-2.06.94zm10 10l.94 2.06.94-2.06 2.06-.94-2.06-.94-.94-2.06-.94 2.06-2.06.94z\"/><path d=\"M17.41 7.96l-1.37-1.37c-.4-.4-.92-.59-1.43-.59-.52 0-1.04.2-1.43.59L10.3 9.45l-7.72 7.72c-.78.78-.78 2.05 0 2.83L4 21.41c.39.39.9.59 1.41.59.51 0 1.02-.2 1.41-.59l7.78-7.78 2.81-2.81c.8-.78.8-2.07 0-2.86zM5.41 20L4 18.59l7.72-7.72 1.47 1.35L5.41 20z\"/>\n",
              "  </svg>\n",
              "      </button>\n",
              "      \n",
              "  <style>\n",
              "    .colab-df-container {\n",
              "      display:flex;\n",
              "      flex-wrap:wrap;\n",
              "      gap: 12px;\n",
              "    }\n",
              "\n",
              "    .colab-df-convert {\n",
              "      background-color: #E8F0FE;\n",
              "      border: none;\n",
              "      border-radius: 50%;\n",
              "      cursor: pointer;\n",
              "      display: none;\n",
              "      fill: #1967D2;\n",
              "      height: 32px;\n",
              "      padding: 0 0 0 0;\n",
              "      width: 32px;\n",
              "    }\n",
              "\n",
              "    .colab-df-convert:hover {\n",
              "      background-color: #E2EBFA;\n",
              "      box-shadow: 0px 1px 2px rgba(60, 64, 67, 0.3), 0px 1px 3px 1px rgba(60, 64, 67, 0.15);\n",
              "      fill: #174EA6;\n",
              "    }\n",
              "\n",
              "    [theme=dark] .colab-df-convert {\n",
              "      background-color: #3B4455;\n",
              "      fill: #D2E3FC;\n",
              "    }\n",
              "\n",
              "    [theme=dark] .colab-df-convert:hover {\n",
              "      background-color: #434B5C;\n",
              "      box-shadow: 0px 1px 3px 1px rgba(0, 0, 0, 0.15);\n",
              "      filter: drop-shadow(0px 1px 2px rgba(0, 0, 0, 0.3));\n",
              "      fill: #FFFFFF;\n",
              "    }\n",
              "  </style>\n",
              "\n",
              "      <script>\n",
              "        const buttonEl =\n",
              "          document.querySelector('#df-6795562d-5a54-4e91-a21f-bd3bf51963b0 button.colab-df-convert');\n",
              "        buttonEl.style.display =\n",
              "          google.colab.kernel.accessAllowed ? 'block' : 'none';\n",
              "\n",
              "        async function convertToInteractive(key) {\n",
              "          const element = document.querySelector('#df-6795562d-5a54-4e91-a21f-bd3bf51963b0');\n",
              "          const dataTable =\n",
              "            await google.colab.kernel.invokeFunction('convertToInteractive',\n",
              "                                                     [key], {});\n",
              "          if (!dataTable) return;\n",
              "\n",
              "          const docLinkHtml = 'Like what you see? Visit the ' +\n",
              "            '<a target=\"_blank\" href=https://colab.research.google.com/notebooks/data_table.ipynb>data table notebook</a>'\n",
              "            + ' to learn more about interactive tables.';\n",
              "          element.innerHTML = '';\n",
              "          dataTable['output_type'] = 'display_data';\n",
              "          await google.colab.output.renderOutput(dataTable, element);\n",
              "          const docLink = document.createElement('div');\n",
              "          docLink.innerHTML = docLinkHtml;\n",
              "          element.appendChild(docLink);\n",
              "        }\n",
              "      </script>\n",
              "    </div>\n",
              "  </div>\n",
              "  "
            ]
          },
          "metadata": {},
          "execution_count": 7
        }
      ]
    },
    {
      "cell_type": "code",
      "source": [
        "df.info()"
      ],
      "metadata": {
        "execution": {
          "iopub.status.busy": "2023-03-04T10:32:59.157085Z",
          "iopub.execute_input": "2023-03-04T10:32:59.157564Z",
          "iopub.status.idle": "2023-03-04T10:32:59.174660Z",
          "shell.execute_reply.started": "2023-03-04T10:32:59.157526Z",
          "shell.execute_reply": "2023-03-04T10:32:59.173606Z"
        },
        "trusted": true,
        "colab": {
          "base_uri": "https://localhost:8080/"
        },
        "id": "Js_YPQiRKfYF",
        "outputId": "cfade359-9ba0-447b-ede9-4a81c38e88e9"
      },
      "execution_count": 8,
      "outputs": [
        {
          "output_type": "stream",
          "name": "stdout",
          "text": [
            "<class 'pandas.core.frame.DataFrame'>\n",
            "RangeIndex: 1338 entries, 0 to 1337\n",
            "Data columns (total 7 columns):\n",
            " #   Column    Non-Null Count  Dtype  \n",
            "---  ------    --------------  -----  \n",
            " 0   age       1338 non-null   int64  \n",
            " 1   sex       1338 non-null   object \n",
            " 2   bmi       1338 non-null   float64\n",
            " 3   children  1338 non-null   int64  \n",
            " 4   smoker    1338 non-null   object \n",
            " 5   region    1338 non-null   object \n",
            " 6   charges   1338 non-null   float64\n",
            "dtypes: float64(2), int64(2), object(3)\n",
            "memory usage: 73.3+ KB\n"
          ]
        }
      ]
    },
    {
      "cell_type": "code",
      "source": [
        "df.select_dtypes(include = 'object').columns"
      ],
      "metadata": {
        "execution": {
          "iopub.status.busy": "2023-03-04T10:32:59.959044Z",
          "iopub.execute_input": "2023-03-04T10:32:59.959825Z",
          "iopub.status.idle": "2023-03-04T10:32:59.969180Z",
          "shell.execute_reply.started": "2023-03-04T10:32:59.959785Z",
          "shell.execute_reply": "2023-03-04T10:32:59.968111Z"
        },
        "trusted": true,
        "colab": {
          "base_uri": "https://localhost:8080/"
        },
        "id": "ZOrewr5zKfYH",
        "outputId": "ad2a9a62-85d0-4a5c-ee32-f738c42b83b7"
      },
      "execution_count": 9,
      "outputs": [
        {
          "output_type": "execute_result",
          "data": {
            "text/plain": [
              "Index(['sex', 'smoker', 'region'], dtype='object')"
            ]
          },
          "metadata": {},
          "execution_count": 9
        }
      ]
    },
    {
      "cell_type": "code",
      "source": [
        "len(df.select_dtypes(include = 'object').columns)"
      ],
      "metadata": {
        "execution": {
          "iopub.status.busy": "2023-03-04T10:33:00.386794Z",
          "iopub.execute_input": "2023-03-04T10:33:00.387506Z",
          "iopub.status.idle": "2023-03-04T10:33:00.396895Z",
          "shell.execute_reply.started": "2023-03-04T10:33:00.387436Z",
          "shell.execute_reply": "2023-03-04T10:33:00.395529Z"
        },
        "trusted": true,
        "colab": {
          "base_uri": "https://localhost:8080/"
        },
        "id": "-2a0mpvfKfYI",
        "outputId": "0f4423f8-c142-4e98-efd6-baf1b04cbd07"
      },
      "execution_count": 10,
      "outputs": [
        {
          "output_type": "execute_result",
          "data": {
            "text/plain": [
              "3"
            ]
          },
          "metadata": {},
          "execution_count": 10
        }
      ]
    },
    {
      "cell_type": "code",
      "source": [
        "df.select_dtypes(include = ['int','float']).columns"
      ],
      "metadata": {
        "execution": {
          "iopub.status.busy": "2023-03-04T10:33:00.778300Z",
          "iopub.execute_input": "2023-03-04T10:33:00.778755Z",
          "iopub.status.idle": "2023-03-04T10:33:00.789532Z",
          "shell.execute_reply.started": "2023-03-04T10:33:00.778719Z",
          "shell.execute_reply": "2023-03-04T10:33:00.788286Z"
        },
        "trusted": true,
        "colab": {
          "base_uri": "https://localhost:8080/"
        },
        "id": "_3yEJKx0KfYK",
        "outputId": "9beaf500-18ce-4fa1-a6f8-52d475ec47a2"
      },
      "execution_count": 11,
      "outputs": [
        {
          "output_type": "execute_result",
          "data": {
            "text/plain": [
              "Index(['age', 'bmi', 'children', 'charges'], dtype='object')"
            ]
          },
          "metadata": {},
          "execution_count": 11
        }
      ]
    },
    {
      "cell_type": "code",
      "source": [
        "len(df.select_dtypes(include = ['int','float']).columns)"
      ],
      "metadata": {
        "execution": {
          "iopub.status.busy": "2023-03-04T10:33:01.126392Z",
          "iopub.execute_input": "2023-03-04T10:33:01.126819Z",
          "iopub.status.idle": "2023-03-04T10:33:01.137621Z",
          "shell.execute_reply.started": "2023-03-04T10:33:01.126785Z",
          "shell.execute_reply": "2023-03-04T10:33:01.135979Z"
        },
        "trusted": true,
        "colab": {
          "base_uri": "https://localhost:8080/"
        },
        "id": "4Db3ukQPKfYL",
        "outputId": "4f37cdb6-7278-4ac3-d8c8-32d764eae7ff"
      },
      "execution_count": 12,
      "outputs": [
        {
          "output_type": "execute_result",
          "data": {
            "text/plain": [
              "4"
            ]
          },
          "metadata": {},
          "execution_count": 12
        }
      ]
    },
    {
      "cell_type": "code",
      "source": [
        "#group the dataset by 'sex','smoker','region'\n",
        "df.groupby('sex').mean()"
      ],
      "metadata": {
        "execution": {
          "iopub.status.busy": "2023-03-04T10:33:01.403400Z",
          "iopub.execute_input": "2023-03-04T10:33:01.403833Z",
          "iopub.status.idle": "2023-03-04T10:33:01.421785Z",
          "shell.execute_reply.started": "2023-03-04T10:33:01.403800Z",
          "shell.execute_reply": "2023-03-04T10:33:01.420490Z"
        },
        "trusted": true,
        "colab": {
          "base_uri": "https://localhost:8080/",
          "height": 200
        },
        "id": "y_-TEUcMKfYM",
        "outputId": "56e76b1c-fb0a-4fb6-849a-de198ddcee31"
      },
      "execution_count": 13,
      "outputs": [
        {
          "output_type": "stream",
          "name": "stderr",
          "text": [
            "<ipython-input-13-08cb0e765ccd>:2: FutureWarning: The default value of numeric_only in DataFrameGroupBy.mean is deprecated. In a future version, numeric_only will default to False. Either specify numeric_only or select only columns which should be valid for the function.\n",
            "  df.groupby('sex').mean()\n"
          ]
        },
        {
          "output_type": "execute_result",
          "data": {
            "text/plain": [
              "              age        bmi  children       charges\n",
              "sex                                                 \n",
              "female  39.503021  30.377749  1.074018  12569.578844\n",
              "male    38.917160  30.943129  1.115385  13956.751178"
            ],
            "text/html": [
              "\n",
              "  <div id=\"df-c9c3de6e-2f1d-4b67-bb6d-5a91ae909dd6\">\n",
              "    <div class=\"colab-df-container\">\n",
              "      <div>\n",
              "<style scoped>\n",
              "    .dataframe tbody tr th:only-of-type {\n",
              "        vertical-align: middle;\n",
              "    }\n",
              "\n",
              "    .dataframe tbody tr th {\n",
              "        vertical-align: top;\n",
              "    }\n",
              "\n",
              "    .dataframe thead th {\n",
              "        text-align: right;\n",
              "    }\n",
              "</style>\n",
              "<table border=\"1\" class=\"dataframe\">\n",
              "  <thead>\n",
              "    <tr style=\"text-align: right;\">\n",
              "      <th></th>\n",
              "      <th>age</th>\n",
              "      <th>bmi</th>\n",
              "      <th>children</th>\n",
              "      <th>charges</th>\n",
              "    </tr>\n",
              "    <tr>\n",
              "      <th>sex</th>\n",
              "      <th></th>\n",
              "      <th></th>\n",
              "      <th></th>\n",
              "      <th></th>\n",
              "    </tr>\n",
              "  </thead>\n",
              "  <tbody>\n",
              "    <tr>\n",
              "      <th>female</th>\n",
              "      <td>39.503021</td>\n",
              "      <td>30.377749</td>\n",
              "      <td>1.074018</td>\n",
              "      <td>12569.578844</td>\n",
              "    </tr>\n",
              "    <tr>\n",
              "      <th>male</th>\n",
              "      <td>38.917160</td>\n",
              "      <td>30.943129</td>\n",
              "      <td>1.115385</td>\n",
              "      <td>13956.751178</td>\n",
              "    </tr>\n",
              "  </tbody>\n",
              "</table>\n",
              "</div>\n",
              "      <button class=\"colab-df-convert\" onclick=\"convertToInteractive('df-c9c3de6e-2f1d-4b67-bb6d-5a91ae909dd6')\"\n",
              "              title=\"Convert this dataframe to an interactive table.\"\n",
              "              style=\"display:none;\">\n",
              "        \n",
              "  <svg xmlns=\"http://www.w3.org/2000/svg\" height=\"24px\"viewBox=\"0 0 24 24\"\n",
              "       width=\"24px\">\n",
              "    <path d=\"M0 0h24v24H0V0z\" fill=\"none\"/>\n",
              "    <path d=\"M18.56 5.44l.94 2.06.94-2.06 2.06-.94-2.06-.94-.94-2.06-.94 2.06-2.06.94zm-11 1L8.5 8.5l.94-2.06 2.06-.94-2.06-.94L8.5 2.5l-.94 2.06-2.06.94zm10 10l.94 2.06.94-2.06 2.06-.94-2.06-.94-.94-2.06-.94 2.06-2.06.94z\"/><path d=\"M17.41 7.96l-1.37-1.37c-.4-.4-.92-.59-1.43-.59-.52 0-1.04.2-1.43.59L10.3 9.45l-7.72 7.72c-.78.78-.78 2.05 0 2.83L4 21.41c.39.39.9.59 1.41.59.51 0 1.02-.2 1.41-.59l7.78-7.78 2.81-2.81c.8-.78.8-2.07 0-2.86zM5.41 20L4 18.59l7.72-7.72 1.47 1.35L5.41 20z\"/>\n",
              "  </svg>\n",
              "      </button>\n",
              "      \n",
              "  <style>\n",
              "    .colab-df-container {\n",
              "      display:flex;\n",
              "      flex-wrap:wrap;\n",
              "      gap: 12px;\n",
              "    }\n",
              "\n",
              "    .colab-df-convert {\n",
              "      background-color: #E8F0FE;\n",
              "      border: none;\n",
              "      border-radius: 50%;\n",
              "      cursor: pointer;\n",
              "      display: none;\n",
              "      fill: #1967D2;\n",
              "      height: 32px;\n",
              "      padding: 0 0 0 0;\n",
              "      width: 32px;\n",
              "    }\n",
              "\n",
              "    .colab-df-convert:hover {\n",
              "      background-color: #E2EBFA;\n",
              "      box-shadow: 0px 1px 2px rgba(60, 64, 67, 0.3), 0px 1px 3px 1px rgba(60, 64, 67, 0.15);\n",
              "      fill: #174EA6;\n",
              "    }\n",
              "\n",
              "    [theme=dark] .colab-df-convert {\n",
              "      background-color: #3B4455;\n",
              "      fill: #D2E3FC;\n",
              "    }\n",
              "\n",
              "    [theme=dark] .colab-df-convert:hover {\n",
              "      background-color: #434B5C;\n",
              "      box-shadow: 0px 1px 3px 1px rgba(0, 0, 0, 0.15);\n",
              "      filter: drop-shadow(0px 1px 2px rgba(0, 0, 0, 0.3));\n",
              "      fill: #FFFFFF;\n",
              "    }\n",
              "  </style>\n",
              "\n",
              "      <script>\n",
              "        const buttonEl =\n",
              "          document.querySelector('#df-c9c3de6e-2f1d-4b67-bb6d-5a91ae909dd6 button.colab-df-convert');\n",
              "        buttonEl.style.display =\n",
              "          google.colab.kernel.accessAllowed ? 'block' : 'none';\n",
              "\n",
              "        async function convertToInteractive(key) {\n",
              "          const element = document.querySelector('#df-c9c3de6e-2f1d-4b67-bb6d-5a91ae909dd6');\n",
              "          const dataTable =\n",
              "            await google.colab.kernel.invokeFunction('convertToInteractive',\n",
              "                                                     [key], {});\n",
              "          if (!dataTable) return;\n",
              "\n",
              "          const docLinkHtml = 'Like what you see? Visit the ' +\n",
              "            '<a target=\"_blank\" href=https://colab.research.google.com/notebooks/data_table.ipynb>data table notebook</a>'\n",
              "            + ' to learn more about interactive tables.';\n",
              "          element.innerHTML = '';\n",
              "          dataTable['output_type'] = 'display_data';\n",
              "          await google.colab.output.renderOutput(dataTable, element);\n",
              "          const docLink = document.createElement('div');\n",
              "          docLink.innerHTML = docLinkHtml;\n",
              "          element.appendChild(docLink);\n",
              "        }\n",
              "      </script>\n",
              "    </div>\n",
              "  </div>\n",
              "  "
            ]
          },
          "metadata": {},
          "execution_count": 13
        }
      ]
    },
    {
      "cell_type": "code",
      "source": [
        "df.groupby('smoker').mean()"
      ],
      "metadata": {
        "execution": {
          "iopub.status.busy": "2023-03-04T10:33:02.249267Z",
          "iopub.execute_input": "2023-03-04T10:33:02.249708Z",
          "iopub.status.idle": "2023-03-04T10:33:02.265579Z",
          "shell.execute_reply.started": "2023-03-04T10:33:02.249673Z",
          "shell.execute_reply": "2023-03-04T10:33:02.264316Z"
        },
        "trusted": true,
        "colab": {
          "base_uri": "https://localhost:8080/",
          "height": 200
        },
        "id": "35HY-DprKfYN",
        "outputId": "def87944-0b96-4144-8b03-8f46afbdcc6d"
      },
      "execution_count": 14,
      "outputs": [
        {
          "output_type": "stream",
          "name": "stderr",
          "text": [
            "<ipython-input-14-cd9be18b1d80>:1: FutureWarning: The default value of numeric_only in DataFrameGroupBy.mean is deprecated. In a future version, numeric_only will default to False. Either specify numeric_only or select only columns which should be valid for the function.\n",
            "  df.groupby('smoker').mean()\n"
          ]
        },
        {
          "output_type": "execute_result",
          "data": {
            "text/plain": [
              "              age        bmi  children       charges\n",
              "smoker                                              \n",
              "no      39.385338  30.651795  1.090226   8434.268298\n",
              "yes     38.514599  30.708449  1.113139  32050.231832"
            ],
            "text/html": [
              "\n",
              "  <div id=\"df-16c18af8-4360-4a08-98a6-853ff3b4e9e9\">\n",
              "    <div class=\"colab-df-container\">\n",
              "      <div>\n",
              "<style scoped>\n",
              "    .dataframe tbody tr th:only-of-type {\n",
              "        vertical-align: middle;\n",
              "    }\n",
              "\n",
              "    .dataframe tbody tr th {\n",
              "        vertical-align: top;\n",
              "    }\n",
              "\n",
              "    .dataframe thead th {\n",
              "        text-align: right;\n",
              "    }\n",
              "</style>\n",
              "<table border=\"1\" class=\"dataframe\">\n",
              "  <thead>\n",
              "    <tr style=\"text-align: right;\">\n",
              "      <th></th>\n",
              "      <th>age</th>\n",
              "      <th>bmi</th>\n",
              "      <th>children</th>\n",
              "      <th>charges</th>\n",
              "    </tr>\n",
              "    <tr>\n",
              "      <th>smoker</th>\n",
              "      <th></th>\n",
              "      <th></th>\n",
              "      <th></th>\n",
              "      <th></th>\n",
              "    </tr>\n",
              "  </thead>\n",
              "  <tbody>\n",
              "    <tr>\n",
              "      <th>no</th>\n",
              "      <td>39.385338</td>\n",
              "      <td>30.651795</td>\n",
              "      <td>1.090226</td>\n",
              "      <td>8434.268298</td>\n",
              "    </tr>\n",
              "    <tr>\n",
              "      <th>yes</th>\n",
              "      <td>38.514599</td>\n",
              "      <td>30.708449</td>\n",
              "      <td>1.113139</td>\n",
              "      <td>32050.231832</td>\n",
              "    </tr>\n",
              "  </tbody>\n",
              "</table>\n",
              "</div>\n",
              "      <button class=\"colab-df-convert\" onclick=\"convertToInteractive('df-16c18af8-4360-4a08-98a6-853ff3b4e9e9')\"\n",
              "              title=\"Convert this dataframe to an interactive table.\"\n",
              "              style=\"display:none;\">\n",
              "        \n",
              "  <svg xmlns=\"http://www.w3.org/2000/svg\" height=\"24px\"viewBox=\"0 0 24 24\"\n",
              "       width=\"24px\">\n",
              "    <path d=\"M0 0h24v24H0V0z\" fill=\"none\"/>\n",
              "    <path d=\"M18.56 5.44l.94 2.06.94-2.06 2.06-.94-2.06-.94-.94-2.06-.94 2.06-2.06.94zm-11 1L8.5 8.5l.94-2.06 2.06-.94-2.06-.94L8.5 2.5l-.94 2.06-2.06.94zm10 10l.94 2.06.94-2.06 2.06-.94-2.06-.94-.94-2.06-.94 2.06-2.06.94z\"/><path d=\"M17.41 7.96l-1.37-1.37c-.4-.4-.92-.59-1.43-.59-.52 0-1.04.2-1.43.59L10.3 9.45l-7.72 7.72c-.78.78-.78 2.05 0 2.83L4 21.41c.39.39.9.59 1.41.59.51 0 1.02-.2 1.41-.59l7.78-7.78 2.81-2.81c.8-.78.8-2.07 0-2.86zM5.41 20L4 18.59l7.72-7.72 1.47 1.35L5.41 20z\"/>\n",
              "  </svg>\n",
              "      </button>\n",
              "      \n",
              "  <style>\n",
              "    .colab-df-container {\n",
              "      display:flex;\n",
              "      flex-wrap:wrap;\n",
              "      gap: 12px;\n",
              "    }\n",
              "\n",
              "    .colab-df-convert {\n",
              "      background-color: #E8F0FE;\n",
              "      border: none;\n",
              "      border-radius: 50%;\n",
              "      cursor: pointer;\n",
              "      display: none;\n",
              "      fill: #1967D2;\n",
              "      height: 32px;\n",
              "      padding: 0 0 0 0;\n",
              "      width: 32px;\n",
              "    }\n",
              "\n",
              "    .colab-df-convert:hover {\n",
              "      background-color: #E2EBFA;\n",
              "      box-shadow: 0px 1px 2px rgba(60, 64, 67, 0.3), 0px 1px 3px 1px rgba(60, 64, 67, 0.15);\n",
              "      fill: #174EA6;\n",
              "    }\n",
              "\n",
              "    [theme=dark] .colab-df-convert {\n",
              "      background-color: #3B4455;\n",
              "      fill: #D2E3FC;\n",
              "    }\n",
              "\n",
              "    [theme=dark] .colab-df-convert:hover {\n",
              "      background-color: #434B5C;\n",
              "      box-shadow: 0px 1px 3px 1px rgba(0, 0, 0, 0.15);\n",
              "      filter: drop-shadow(0px 1px 2px rgba(0, 0, 0, 0.3));\n",
              "      fill: #FFFFFF;\n",
              "    }\n",
              "  </style>\n",
              "\n",
              "      <script>\n",
              "        const buttonEl =\n",
              "          document.querySelector('#df-16c18af8-4360-4a08-98a6-853ff3b4e9e9 button.colab-df-convert');\n",
              "        buttonEl.style.display =\n",
              "          google.colab.kernel.accessAllowed ? 'block' : 'none';\n",
              "\n",
              "        async function convertToInteractive(key) {\n",
              "          const element = document.querySelector('#df-16c18af8-4360-4a08-98a6-853ff3b4e9e9');\n",
              "          const dataTable =\n",
              "            await google.colab.kernel.invokeFunction('convertToInteractive',\n",
              "                                                     [key], {});\n",
              "          if (!dataTable) return;\n",
              "\n",
              "          const docLinkHtml = 'Like what you see? Visit the ' +\n",
              "            '<a target=\"_blank\" href=https://colab.research.google.com/notebooks/data_table.ipynb>data table notebook</a>'\n",
              "            + ' to learn more about interactive tables.';\n",
              "          element.innerHTML = '';\n",
              "          dataTable['output_type'] = 'display_data';\n",
              "          await google.colab.output.renderOutput(dataTable, element);\n",
              "          const docLink = document.createElement('div');\n",
              "          docLink.innerHTML = docLinkHtml;\n",
              "          element.appendChild(docLink);\n",
              "        }\n",
              "      </script>\n",
              "    </div>\n",
              "  </div>\n",
              "  "
            ]
          },
          "metadata": {},
          "execution_count": 14
        }
      ]
    },
    {
      "cell_type": "code",
      "source": [
        "df.groupby('region').mean()"
      ],
      "metadata": {
        "execution": {
          "iopub.status.busy": "2023-03-04T10:33:02.612829Z",
          "iopub.execute_input": "2023-03-04T10:33:02.613545Z",
          "iopub.status.idle": "2023-03-04T10:33:02.629640Z",
          "shell.execute_reply.started": "2023-03-04T10:33:02.613497Z",
          "shell.execute_reply": "2023-03-04T10:33:02.628420Z"
        },
        "trusted": true,
        "colab": {
          "base_uri": "https://localhost:8080/",
          "height": 262
        },
        "id": "WWtjbFM5KfYO",
        "outputId": "cd760373-c646-45bb-8922-c789801f3107"
      },
      "execution_count": 15,
      "outputs": [
        {
          "output_type": "stream",
          "name": "stderr",
          "text": [
            "<ipython-input-15-560d20b76c1e>:1: FutureWarning: The default value of numeric_only in DataFrameGroupBy.mean is deprecated. In a future version, numeric_only will default to False. Either specify numeric_only or select only columns which should be valid for the function.\n",
            "  df.groupby('region').mean()\n"
          ]
        },
        {
          "output_type": "execute_result",
          "data": {
            "text/plain": [
              "                 age        bmi  children       charges\n",
              "region                                                 \n",
              "northeast  39.268519  29.173503  1.046296  13406.384516\n",
              "northwest  39.196923  29.199785  1.147692  12417.575374\n",
              "southeast  38.939560  33.355989  1.049451  14735.411438\n",
              "southwest  39.455385  30.596615  1.141538  12346.937377"
            ],
            "text/html": [
              "\n",
              "  <div id=\"df-52b2e5a3-5a73-47e3-a128-21bd0428dd40\">\n",
              "    <div class=\"colab-df-container\">\n",
              "      <div>\n",
              "<style scoped>\n",
              "    .dataframe tbody tr th:only-of-type {\n",
              "        vertical-align: middle;\n",
              "    }\n",
              "\n",
              "    .dataframe tbody tr th {\n",
              "        vertical-align: top;\n",
              "    }\n",
              "\n",
              "    .dataframe thead th {\n",
              "        text-align: right;\n",
              "    }\n",
              "</style>\n",
              "<table border=\"1\" class=\"dataframe\">\n",
              "  <thead>\n",
              "    <tr style=\"text-align: right;\">\n",
              "      <th></th>\n",
              "      <th>age</th>\n",
              "      <th>bmi</th>\n",
              "      <th>children</th>\n",
              "      <th>charges</th>\n",
              "    </tr>\n",
              "    <tr>\n",
              "      <th>region</th>\n",
              "      <th></th>\n",
              "      <th></th>\n",
              "      <th></th>\n",
              "      <th></th>\n",
              "    </tr>\n",
              "  </thead>\n",
              "  <tbody>\n",
              "    <tr>\n",
              "      <th>northeast</th>\n",
              "      <td>39.268519</td>\n",
              "      <td>29.173503</td>\n",
              "      <td>1.046296</td>\n",
              "      <td>13406.384516</td>\n",
              "    </tr>\n",
              "    <tr>\n",
              "      <th>northwest</th>\n",
              "      <td>39.196923</td>\n",
              "      <td>29.199785</td>\n",
              "      <td>1.147692</td>\n",
              "      <td>12417.575374</td>\n",
              "    </tr>\n",
              "    <tr>\n",
              "      <th>southeast</th>\n",
              "      <td>38.939560</td>\n",
              "      <td>33.355989</td>\n",
              "      <td>1.049451</td>\n",
              "      <td>14735.411438</td>\n",
              "    </tr>\n",
              "    <tr>\n",
              "      <th>southwest</th>\n",
              "      <td>39.455385</td>\n",
              "      <td>30.596615</td>\n",
              "      <td>1.141538</td>\n",
              "      <td>12346.937377</td>\n",
              "    </tr>\n",
              "  </tbody>\n",
              "</table>\n",
              "</div>\n",
              "      <button class=\"colab-df-convert\" onclick=\"convertToInteractive('df-52b2e5a3-5a73-47e3-a128-21bd0428dd40')\"\n",
              "              title=\"Convert this dataframe to an interactive table.\"\n",
              "              style=\"display:none;\">\n",
              "        \n",
              "  <svg xmlns=\"http://www.w3.org/2000/svg\" height=\"24px\"viewBox=\"0 0 24 24\"\n",
              "       width=\"24px\">\n",
              "    <path d=\"M0 0h24v24H0V0z\" fill=\"none\"/>\n",
              "    <path d=\"M18.56 5.44l.94 2.06.94-2.06 2.06-.94-2.06-.94-.94-2.06-.94 2.06-2.06.94zm-11 1L8.5 8.5l.94-2.06 2.06-.94-2.06-.94L8.5 2.5l-.94 2.06-2.06.94zm10 10l.94 2.06.94-2.06 2.06-.94-2.06-.94-.94-2.06-.94 2.06-2.06.94z\"/><path d=\"M17.41 7.96l-1.37-1.37c-.4-.4-.92-.59-1.43-.59-.52 0-1.04.2-1.43.59L10.3 9.45l-7.72 7.72c-.78.78-.78 2.05 0 2.83L4 21.41c.39.39.9.59 1.41.59.51 0 1.02-.2 1.41-.59l7.78-7.78 2.81-2.81c.8-.78.8-2.07 0-2.86zM5.41 20L4 18.59l7.72-7.72 1.47 1.35L5.41 20z\"/>\n",
              "  </svg>\n",
              "      </button>\n",
              "      \n",
              "  <style>\n",
              "    .colab-df-container {\n",
              "      display:flex;\n",
              "      flex-wrap:wrap;\n",
              "      gap: 12px;\n",
              "    }\n",
              "\n",
              "    .colab-df-convert {\n",
              "      background-color: #E8F0FE;\n",
              "      border: none;\n",
              "      border-radius: 50%;\n",
              "      cursor: pointer;\n",
              "      display: none;\n",
              "      fill: #1967D2;\n",
              "      height: 32px;\n",
              "      padding: 0 0 0 0;\n",
              "      width: 32px;\n",
              "    }\n",
              "\n",
              "    .colab-df-convert:hover {\n",
              "      background-color: #E2EBFA;\n",
              "      box-shadow: 0px 1px 2px rgba(60, 64, 67, 0.3), 0px 1px 3px 1px rgba(60, 64, 67, 0.15);\n",
              "      fill: #174EA6;\n",
              "    }\n",
              "\n",
              "    [theme=dark] .colab-df-convert {\n",
              "      background-color: #3B4455;\n",
              "      fill: #D2E3FC;\n",
              "    }\n",
              "\n",
              "    [theme=dark] .colab-df-convert:hover {\n",
              "      background-color: #434B5C;\n",
              "      box-shadow: 0px 1px 3px 1px rgba(0, 0, 0, 0.15);\n",
              "      filter: drop-shadow(0px 1px 2px rgba(0, 0, 0, 0.3));\n",
              "      fill: #FFFFFF;\n",
              "    }\n",
              "  </style>\n",
              "\n",
              "      <script>\n",
              "        const buttonEl =\n",
              "          document.querySelector('#df-52b2e5a3-5a73-47e3-a128-21bd0428dd40 button.colab-df-convert');\n",
              "        buttonEl.style.display =\n",
              "          google.colab.kernel.accessAllowed ? 'block' : 'none';\n",
              "\n",
              "        async function convertToInteractive(key) {\n",
              "          const element = document.querySelector('#df-52b2e5a3-5a73-47e3-a128-21bd0428dd40');\n",
              "          const dataTable =\n",
              "            await google.colab.kernel.invokeFunction('convertToInteractive',\n",
              "                                                     [key], {});\n",
              "          if (!dataTable) return;\n",
              "\n",
              "          const docLinkHtml = 'Like what you see? Visit the ' +\n",
              "            '<a target=\"_blank\" href=https://colab.research.google.com/notebooks/data_table.ipynb>data table notebook</a>'\n",
              "            + ' to learn more about interactive tables.';\n",
              "          element.innerHTML = '';\n",
              "          dataTable['output_type'] = 'display_data';\n",
              "          await google.colab.output.renderOutput(dataTable, element);\n",
              "          const docLink = document.createElement('div');\n",
              "          docLink.innerHTML = docLinkHtml;\n",
              "          element.appendChild(docLink);\n",
              "        }\n",
              "      </script>\n",
              "    </div>\n",
              "  </div>\n",
              "  "
            ]
          },
          "metadata": {},
          "execution_count": 15
        }
      ]
    },
    {
      "cell_type": "markdown",
      "source": [
        "Dealing with null values"
      ],
      "metadata": {
        "id": "r4wRStKFKfYQ"
      }
    },
    {
      "cell_type": "code",
      "source": [
        "df.isnull().values.any()"
      ],
      "metadata": {
        "trusted": true,
        "colab": {
          "base_uri": "https://localhost:8080/"
        },
        "id": "KRFrVhNSKfYR",
        "outputId": "b46d7c7d-f96b-46fd-ad82-6c2712bfc25f"
      },
      "execution_count": 16,
      "outputs": [
        {
          "output_type": "execute_result",
          "data": {
            "text/plain": [
              "False"
            ]
          },
          "metadata": {},
          "execution_count": 16
        }
      ]
    },
    {
      "cell_type": "code",
      "source": [
        "df.isnull().values.sum()"
      ],
      "metadata": {
        "execution": {
          "iopub.status.busy": "2023-02-22T04:22:01.246784Z",
          "iopub.execute_input": "2023-02-22T04:22:01.247397Z",
          "iopub.status.idle": "2023-02-22T04:22:01.257042Z",
          "shell.execute_reply.started": "2023-02-22T04:22:01.247363Z",
          "shell.execute_reply": "2023-02-22T04:22:01.255890Z"
        },
        "trusted": true,
        "colab": {
          "base_uri": "https://localhost:8080/"
        },
        "id": "3Fe2Xm_aKfYS",
        "outputId": "63ecda1c-2510-4241-f7a3-390c3421aac7"
      },
      "execution_count": 17,
      "outputs": [
        {
          "output_type": "execute_result",
          "data": {
            "text/plain": [
              "0"
            ]
          },
          "metadata": {},
          "execution_count": 17
        }
      ]
    },
    {
      "cell_type": "code",
      "source": [
        "df['sex'].unique()"
      ],
      "metadata": {
        "execution": {
          "iopub.status.busy": "2023-02-22T04:22:01.258541Z",
          "iopub.execute_input": "2023-02-22T04:22:01.259101Z",
          "iopub.status.idle": "2023-02-22T04:22:01.265288Z",
          "shell.execute_reply.started": "2023-02-22T04:22:01.259068Z",
          "shell.execute_reply": "2023-02-22T04:22:01.264428Z"
        },
        "trusted": true,
        "colab": {
          "base_uri": "https://localhost:8080/"
        },
        "id": "73auIT4AKfYT",
        "outputId": "9b589473-e9cb-48b6-e160-51069087c330"
      },
      "execution_count": 18,
      "outputs": [
        {
          "output_type": "execute_result",
          "data": {
            "text/plain": [
              "array(['female', 'male'], dtype=object)"
            ]
          },
          "metadata": {},
          "execution_count": 18
        }
      ]
    },
    {
      "cell_type": "code",
      "source": [
        "df['sex'].value_counts()"
      ],
      "metadata": {
        "execution": {
          "iopub.status.busy": "2023-02-22T04:22:01.266776Z",
          "iopub.execute_input": "2023-02-22T04:22:01.267356Z",
          "iopub.status.idle": "2023-02-22T04:22:01.276322Z",
          "shell.execute_reply.started": "2023-02-22T04:22:01.267323Z",
          "shell.execute_reply": "2023-02-22T04:22:01.275462Z"
        },
        "trusted": true,
        "colab": {
          "base_uri": "https://localhost:8080/"
        },
        "id": "GAtG5pivKfYU",
        "outputId": "261ce74e-7bdf-4bba-c1ee-0e45850348bf"
      },
      "execution_count": 19,
      "outputs": [
        {
          "output_type": "execute_result",
          "data": {
            "text/plain": [
              "male      676\n",
              "female    662\n",
              "Name: sex, dtype: int64"
            ]
          },
          "metadata": {},
          "execution_count": 19
        }
      ]
    },
    {
      "cell_type": "code",
      "source": [
        "#dummification\n",
        "\n",
        "df = pd.get_dummies(data=df, drop_first=True)"
      ],
      "metadata": {
        "execution": {
          "iopub.status.busy": "2023-02-22T04:22:01.277810Z",
          "iopub.execute_input": "2023-02-22T04:22:01.278142Z",
          "iopub.status.idle": "2023-02-22T04:22:01.290884Z",
          "shell.execute_reply.started": "2023-02-22T04:22:01.278111Z",
          "shell.execute_reply": "2023-02-22T04:22:01.289916Z"
        },
        "trusted": true,
        "id": "aPn2R2HVKfYV"
      },
      "execution_count": 20,
      "outputs": []
    },
    {
      "cell_type": "code",
      "source": [
        "df"
      ],
      "metadata": {
        "execution": {
          "iopub.status.busy": "2023-02-22T04:22:01.292183Z",
          "iopub.execute_input": "2023-02-22T04:22:01.292788Z",
          "iopub.status.idle": "2023-02-22T04:22:01.310718Z",
          "shell.execute_reply.started": "2023-02-22T04:22:01.292754Z",
          "shell.execute_reply": "2023-02-22T04:22:01.309512Z"
        },
        "trusted": true,
        "colab": {
          "base_uri": "https://localhost:8080/",
          "height": 423
        },
        "id": "vhKZ-l37KfYV",
        "outputId": "b9cbaba6-cd22-475a-8e6b-7b21ae6820d0"
      },
      "execution_count": 21,
      "outputs": [
        {
          "output_type": "execute_result",
          "data": {
            "text/plain": [
              "      age     bmi  children      charges  sex_male  smoker_yes  \\\n",
              "0      19  27.900         0  16884.92400         0           1   \n",
              "1      18  33.770         1   1725.55230         1           0   \n",
              "2      28  33.000         3   4449.46200         1           0   \n",
              "3      33  22.705         0  21984.47061         1           0   \n",
              "4      32  28.880         0   3866.85520         1           0   \n",
              "...   ...     ...       ...          ...       ...         ...   \n",
              "1333   50  30.970         3  10600.54830         1           0   \n",
              "1334   18  31.920         0   2205.98080         0           0   \n",
              "1335   18  36.850         0   1629.83350         0           0   \n",
              "1336   21  25.800         0   2007.94500         0           0   \n",
              "1337   61  29.070         0  29141.36030         0           1   \n",
              "\n",
              "      region_northwest  region_southeast  region_southwest  \n",
              "0                    0                 0                 1  \n",
              "1                    0                 1                 0  \n",
              "2                    0                 1                 0  \n",
              "3                    1                 0                 0  \n",
              "4                    1                 0                 0  \n",
              "...                ...               ...               ...  \n",
              "1333                 1                 0                 0  \n",
              "1334                 0                 0                 0  \n",
              "1335                 0                 1                 0  \n",
              "1336                 0                 0                 1  \n",
              "1337                 1                 0                 0  \n",
              "\n",
              "[1338 rows x 9 columns]"
            ],
            "text/html": [
              "\n",
              "  <div id=\"df-cf4dcd94-1ec6-4741-b755-4f678157b7e4\">\n",
              "    <div class=\"colab-df-container\">\n",
              "      <div>\n",
              "<style scoped>\n",
              "    .dataframe tbody tr th:only-of-type {\n",
              "        vertical-align: middle;\n",
              "    }\n",
              "\n",
              "    .dataframe tbody tr th {\n",
              "        vertical-align: top;\n",
              "    }\n",
              "\n",
              "    .dataframe thead th {\n",
              "        text-align: right;\n",
              "    }\n",
              "</style>\n",
              "<table border=\"1\" class=\"dataframe\">\n",
              "  <thead>\n",
              "    <tr style=\"text-align: right;\">\n",
              "      <th></th>\n",
              "      <th>age</th>\n",
              "      <th>bmi</th>\n",
              "      <th>children</th>\n",
              "      <th>charges</th>\n",
              "      <th>sex_male</th>\n",
              "      <th>smoker_yes</th>\n",
              "      <th>region_northwest</th>\n",
              "      <th>region_southeast</th>\n",
              "      <th>region_southwest</th>\n",
              "    </tr>\n",
              "  </thead>\n",
              "  <tbody>\n",
              "    <tr>\n",
              "      <th>0</th>\n",
              "      <td>19</td>\n",
              "      <td>27.900</td>\n",
              "      <td>0</td>\n",
              "      <td>16884.92400</td>\n",
              "      <td>0</td>\n",
              "      <td>1</td>\n",
              "      <td>0</td>\n",
              "      <td>0</td>\n",
              "      <td>1</td>\n",
              "    </tr>\n",
              "    <tr>\n",
              "      <th>1</th>\n",
              "      <td>18</td>\n",
              "      <td>33.770</td>\n",
              "      <td>1</td>\n",
              "      <td>1725.55230</td>\n",
              "      <td>1</td>\n",
              "      <td>0</td>\n",
              "      <td>0</td>\n",
              "      <td>1</td>\n",
              "      <td>0</td>\n",
              "    </tr>\n",
              "    <tr>\n",
              "      <th>2</th>\n",
              "      <td>28</td>\n",
              "      <td>33.000</td>\n",
              "      <td>3</td>\n",
              "      <td>4449.46200</td>\n",
              "      <td>1</td>\n",
              "      <td>0</td>\n",
              "      <td>0</td>\n",
              "      <td>1</td>\n",
              "      <td>0</td>\n",
              "    </tr>\n",
              "    <tr>\n",
              "      <th>3</th>\n",
              "      <td>33</td>\n",
              "      <td>22.705</td>\n",
              "      <td>0</td>\n",
              "      <td>21984.47061</td>\n",
              "      <td>1</td>\n",
              "      <td>0</td>\n",
              "      <td>1</td>\n",
              "      <td>0</td>\n",
              "      <td>0</td>\n",
              "    </tr>\n",
              "    <tr>\n",
              "      <th>4</th>\n",
              "      <td>32</td>\n",
              "      <td>28.880</td>\n",
              "      <td>0</td>\n",
              "      <td>3866.85520</td>\n",
              "      <td>1</td>\n",
              "      <td>0</td>\n",
              "      <td>1</td>\n",
              "      <td>0</td>\n",
              "      <td>0</td>\n",
              "    </tr>\n",
              "    <tr>\n",
              "      <th>...</th>\n",
              "      <td>...</td>\n",
              "      <td>...</td>\n",
              "      <td>...</td>\n",
              "      <td>...</td>\n",
              "      <td>...</td>\n",
              "      <td>...</td>\n",
              "      <td>...</td>\n",
              "      <td>...</td>\n",
              "      <td>...</td>\n",
              "    </tr>\n",
              "    <tr>\n",
              "      <th>1333</th>\n",
              "      <td>50</td>\n",
              "      <td>30.970</td>\n",
              "      <td>3</td>\n",
              "      <td>10600.54830</td>\n",
              "      <td>1</td>\n",
              "      <td>0</td>\n",
              "      <td>1</td>\n",
              "      <td>0</td>\n",
              "      <td>0</td>\n",
              "    </tr>\n",
              "    <tr>\n",
              "      <th>1334</th>\n",
              "      <td>18</td>\n",
              "      <td>31.920</td>\n",
              "      <td>0</td>\n",
              "      <td>2205.98080</td>\n",
              "      <td>0</td>\n",
              "      <td>0</td>\n",
              "      <td>0</td>\n",
              "      <td>0</td>\n",
              "      <td>0</td>\n",
              "    </tr>\n",
              "    <tr>\n",
              "      <th>1335</th>\n",
              "      <td>18</td>\n",
              "      <td>36.850</td>\n",
              "      <td>0</td>\n",
              "      <td>1629.83350</td>\n",
              "      <td>0</td>\n",
              "      <td>0</td>\n",
              "      <td>0</td>\n",
              "      <td>1</td>\n",
              "      <td>0</td>\n",
              "    </tr>\n",
              "    <tr>\n",
              "      <th>1336</th>\n",
              "      <td>21</td>\n",
              "      <td>25.800</td>\n",
              "      <td>0</td>\n",
              "      <td>2007.94500</td>\n",
              "      <td>0</td>\n",
              "      <td>0</td>\n",
              "      <td>0</td>\n",
              "      <td>0</td>\n",
              "      <td>1</td>\n",
              "    </tr>\n",
              "    <tr>\n",
              "      <th>1337</th>\n",
              "      <td>61</td>\n",
              "      <td>29.070</td>\n",
              "      <td>0</td>\n",
              "      <td>29141.36030</td>\n",
              "      <td>0</td>\n",
              "      <td>1</td>\n",
              "      <td>1</td>\n",
              "      <td>0</td>\n",
              "      <td>0</td>\n",
              "    </tr>\n",
              "  </tbody>\n",
              "</table>\n",
              "<p>1338 rows × 9 columns</p>\n",
              "</div>\n",
              "      <button class=\"colab-df-convert\" onclick=\"convertToInteractive('df-cf4dcd94-1ec6-4741-b755-4f678157b7e4')\"\n",
              "              title=\"Convert this dataframe to an interactive table.\"\n",
              "              style=\"display:none;\">\n",
              "        \n",
              "  <svg xmlns=\"http://www.w3.org/2000/svg\" height=\"24px\"viewBox=\"0 0 24 24\"\n",
              "       width=\"24px\">\n",
              "    <path d=\"M0 0h24v24H0V0z\" fill=\"none\"/>\n",
              "    <path d=\"M18.56 5.44l.94 2.06.94-2.06 2.06-.94-2.06-.94-.94-2.06-.94 2.06-2.06.94zm-11 1L8.5 8.5l.94-2.06 2.06-.94-2.06-.94L8.5 2.5l-.94 2.06-2.06.94zm10 10l.94 2.06.94-2.06 2.06-.94-2.06-.94-.94-2.06-.94 2.06-2.06.94z\"/><path d=\"M17.41 7.96l-1.37-1.37c-.4-.4-.92-.59-1.43-.59-.52 0-1.04.2-1.43.59L10.3 9.45l-7.72 7.72c-.78.78-.78 2.05 0 2.83L4 21.41c.39.39.9.59 1.41.59.51 0 1.02-.2 1.41-.59l7.78-7.78 2.81-2.81c.8-.78.8-2.07 0-2.86zM5.41 20L4 18.59l7.72-7.72 1.47 1.35L5.41 20z\"/>\n",
              "  </svg>\n",
              "      </button>\n",
              "      \n",
              "  <style>\n",
              "    .colab-df-container {\n",
              "      display:flex;\n",
              "      flex-wrap:wrap;\n",
              "      gap: 12px;\n",
              "    }\n",
              "\n",
              "    .colab-df-convert {\n",
              "      background-color: #E8F0FE;\n",
              "      border: none;\n",
              "      border-radius: 50%;\n",
              "      cursor: pointer;\n",
              "      display: none;\n",
              "      fill: #1967D2;\n",
              "      height: 32px;\n",
              "      padding: 0 0 0 0;\n",
              "      width: 32px;\n",
              "    }\n",
              "\n",
              "    .colab-df-convert:hover {\n",
              "      background-color: #E2EBFA;\n",
              "      box-shadow: 0px 1px 2px rgba(60, 64, 67, 0.3), 0px 1px 3px 1px rgba(60, 64, 67, 0.15);\n",
              "      fill: #174EA6;\n",
              "    }\n",
              "\n",
              "    [theme=dark] .colab-df-convert {\n",
              "      background-color: #3B4455;\n",
              "      fill: #D2E3FC;\n",
              "    }\n",
              "\n",
              "    [theme=dark] .colab-df-convert:hover {\n",
              "      background-color: #434B5C;\n",
              "      box-shadow: 0px 1px 3px 1px rgba(0, 0, 0, 0.15);\n",
              "      filter: drop-shadow(0px 1px 2px rgba(0, 0, 0, 0.3));\n",
              "      fill: #FFFFFF;\n",
              "    }\n",
              "  </style>\n",
              "\n",
              "      <script>\n",
              "        const buttonEl =\n",
              "          document.querySelector('#df-cf4dcd94-1ec6-4741-b755-4f678157b7e4 button.colab-df-convert');\n",
              "        buttonEl.style.display =\n",
              "          google.colab.kernel.accessAllowed ? 'block' : 'none';\n",
              "\n",
              "        async function convertToInteractive(key) {\n",
              "          const element = document.querySelector('#df-cf4dcd94-1ec6-4741-b755-4f678157b7e4');\n",
              "          const dataTable =\n",
              "            await google.colab.kernel.invokeFunction('convertToInteractive',\n",
              "                                                     [key], {});\n",
              "          if (!dataTable) return;\n",
              "\n",
              "          const docLinkHtml = 'Like what you see? Visit the ' +\n",
              "            '<a target=\"_blank\" href=https://colab.research.google.com/notebooks/data_table.ipynb>data table notebook</a>'\n",
              "            + ' to learn more about interactive tables.';\n",
              "          element.innerHTML = '';\n",
              "          dataTable['output_type'] = 'display_data';\n",
              "          await google.colab.output.renderOutput(dataTable, element);\n",
              "          const docLink = document.createElement('div');\n",
              "          docLink.innerHTML = docLinkHtml;\n",
              "          element.appendChild(docLink);\n",
              "        }\n",
              "      </script>\n",
              "    </div>\n",
              "  </div>\n",
              "  "
            ]
          },
          "metadata": {},
          "execution_count": 21
        }
      ]
    },
    {
      "cell_type": "code",
      "source": [
        "df.head()"
      ],
      "metadata": {
        "execution": {
          "iopub.status.busy": "2023-02-22T04:22:01.312382Z",
          "iopub.execute_input": "2023-02-22T04:22:01.313085Z",
          "iopub.status.idle": "2023-02-22T04:22:01.327780Z",
          "shell.execute_reply.started": "2023-02-22T04:22:01.313041Z",
          "shell.execute_reply": "2023-02-22T04:22:01.326552Z"
        },
        "trusted": true,
        "colab": {
          "base_uri": "https://localhost:8080/",
          "height": 206
        },
        "id": "MKz2mq8qKfYX",
        "outputId": "4d51edce-272f-410d-f834-822b84568ced"
      },
      "execution_count": 22,
      "outputs": [
        {
          "output_type": "execute_result",
          "data": {
            "text/plain": [
              "   age     bmi  children      charges  sex_male  smoker_yes  region_northwest  \\\n",
              "0   19  27.900         0  16884.92400         0           1                 0   \n",
              "1   18  33.770         1   1725.55230         1           0                 0   \n",
              "2   28  33.000         3   4449.46200         1           0                 0   \n",
              "3   33  22.705         0  21984.47061         1           0                 1   \n",
              "4   32  28.880         0   3866.85520         1           0                 1   \n",
              "\n",
              "   region_southeast  region_southwest  \n",
              "0                 0                 1  \n",
              "1                 1                 0  \n",
              "2                 1                 0  \n",
              "3                 0                 0  \n",
              "4                 0                 0  "
            ],
            "text/html": [
              "\n",
              "  <div id=\"df-e7e280f8-d507-4841-a33d-0c08884faefc\">\n",
              "    <div class=\"colab-df-container\">\n",
              "      <div>\n",
              "<style scoped>\n",
              "    .dataframe tbody tr th:only-of-type {\n",
              "        vertical-align: middle;\n",
              "    }\n",
              "\n",
              "    .dataframe tbody tr th {\n",
              "        vertical-align: top;\n",
              "    }\n",
              "\n",
              "    .dataframe thead th {\n",
              "        text-align: right;\n",
              "    }\n",
              "</style>\n",
              "<table border=\"1\" class=\"dataframe\">\n",
              "  <thead>\n",
              "    <tr style=\"text-align: right;\">\n",
              "      <th></th>\n",
              "      <th>age</th>\n",
              "      <th>bmi</th>\n",
              "      <th>children</th>\n",
              "      <th>charges</th>\n",
              "      <th>sex_male</th>\n",
              "      <th>smoker_yes</th>\n",
              "      <th>region_northwest</th>\n",
              "      <th>region_southeast</th>\n",
              "      <th>region_southwest</th>\n",
              "    </tr>\n",
              "  </thead>\n",
              "  <tbody>\n",
              "    <tr>\n",
              "      <th>0</th>\n",
              "      <td>19</td>\n",
              "      <td>27.900</td>\n",
              "      <td>0</td>\n",
              "      <td>16884.92400</td>\n",
              "      <td>0</td>\n",
              "      <td>1</td>\n",
              "      <td>0</td>\n",
              "      <td>0</td>\n",
              "      <td>1</td>\n",
              "    </tr>\n",
              "    <tr>\n",
              "      <th>1</th>\n",
              "      <td>18</td>\n",
              "      <td>33.770</td>\n",
              "      <td>1</td>\n",
              "      <td>1725.55230</td>\n",
              "      <td>1</td>\n",
              "      <td>0</td>\n",
              "      <td>0</td>\n",
              "      <td>1</td>\n",
              "      <td>0</td>\n",
              "    </tr>\n",
              "    <tr>\n",
              "      <th>2</th>\n",
              "      <td>28</td>\n",
              "      <td>33.000</td>\n",
              "      <td>3</td>\n",
              "      <td>4449.46200</td>\n",
              "      <td>1</td>\n",
              "      <td>0</td>\n",
              "      <td>0</td>\n",
              "      <td>1</td>\n",
              "      <td>0</td>\n",
              "    </tr>\n",
              "    <tr>\n",
              "      <th>3</th>\n",
              "      <td>33</td>\n",
              "      <td>22.705</td>\n",
              "      <td>0</td>\n",
              "      <td>21984.47061</td>\n",
              "      <td>1</td>\n",
              "      <td>0</td>\n",
              "      <td>1</td>\n",
              "      <td>0</td>\n",
              "      <td>0</td>\n",
              "    </tr>\n",
              "    <tr>\n",
              "      <th>4</th>\n",
              "      <td>32</td>\n",
              "      <td>28.880</td>\n",
              "      <td>0</td>\n",
              "      <td>3866.85520</td>\n",
              "      <td>1</td>\n",
              "      <td>0</td>\n",
              "      <td>1</td>\n",
              "      <td>0</td>\n",
              "      <td>0</td>\n",
              "    </tr>\n",
              "  </tbody>\n",
              "</table>\n",
              "</div>\n",
              "      <button class=\"colab-df-convert\" onclick=\"convertToInteractive('df-e7e280f8-d507-4841-a33d-0c08884faefc')\"\n",
              "              title=\"Convert this dataframe to an interactive table.\"\n",
              "              style=\"display:none;\">\n",
              "        \n",
              "  <svg xmlns=\"http://www.w3.org/2000/svg\" height=\"24px\"viewBox=\"0 0 24 24\"\n",
              "       width=\"24px\">\n",
              "    <path d=\"M0 0h24v24H0V0z\" fill=\"none\"/>\n",
              "    <path d=\"M18.56 5.44l.94 2.06.94-2.06 2.06-.94-2.06-.94-.94-2.06-.94 2.06-2.06.94zm-11 1L8.5 8.5l.94-2.06 2.06-.94-2.06-.94L8.5 2.5l-.94 2.06-2.06.94zm10 10l.94 2.06.94-2.06 2.06-.94-2.06-.94-.94-2.06-.94 2.06-2.06.94z\"/><path d=\"M17.41 7.96l-1.37-1.37c-.4-.4-.92-.59-1.43-.59-.52 0-1.04.2-1.43.59L10.3 9.45l-7.72 7.72c-.78.78-.78 2.05 0 2.83L4 21.41c.39.39.9.59 1.41.59.51 0 1.02-.2 1.41-.59l7.78-7.78 2.81-2.81c.8-.78.8-2.07 0-2.86zM5.41 20L4 18.59l7.72-7.72 1.47 1.35L5.41 20z\"/>\n",
              "  </svg>\n",
              "      </button>\n",
              "      \n",
              "  <style>\n",
              "    .colab-df-container {\n",
              "      display:flex;\n",
              "      flex-wrap:wrap;\n",
              "      gap: 12px;\n",
              "    }\n",
              "\n",
              "    .colab-df-convert {\n",
              "      background-color: #E8F0FE;\n",
              "      border: none;\n",
              "      border-radius: 50%;\n",
              "      cursor: pointer;\n",
              "      display: none;\n",
              "      fill: #1967D2;\n",
              "      height: 32px;\n",
              "      padding: 0 0 0 0;\n",
              "      width: 32px;\n",
              "    }\n",
              "\n",
              "    .colab-df-convert:hover {\n",
              "      background-color: #E2EBFA;\n",
              "      box-shadow: 0px 1px 2px rgba(60, 64, 67, 0.3), 0px 1px 3px 1px rgba(60, 64, 67, 0.15);\n",
              "      fill: #174EA6;\n",
              "    }\n",
              "\n",
              "    [theme=dark] .colab-df-convert {\n",
              "      background-color: #3B4455;\n",
              "      fill: #D2E3FC;\n",
              "    }\n",
              "\n",
              "    [theme=dark] .colab-df-convert:hover {\n",
              "      background-color: #434B5C;\n",
              "      box-shadow: 0px 1px 3px 1px rgba(0, 0, 0, 0.15);\n",
              "      filter: drop-shadow(0px 1px 2px rgba(0, 0, 0, 0.3));\n",
              "      fill: #FFFFFF;\n",
              "    }\n",
              "  </style>\n",
              "\n",
              "      <script>\n",
              "        const buttonEl =\n",
              "          document.querySelector('#df-e7e280f8-d507-4841-a33d-0c08884faefc button.colab-df-convert');\n",
              "        buttonEl.style.display =\n",
              "          google.colab.kernel.accessAllowed ? 'block' : 'none';\n",
              "\n",
              "        async function convertToInteractive(key) {\n",
              "          const element = document.querySelector('#df-e7e280f8-d507-4841-a33d-0c08884faefc');\n",
              "          const dataTable =\n",
              "            await google.colab.kernel.invokeFunction('convertToInteractive',\n",
              "                                                     [key], {});\n",
              "          if (!dataTable) return;\n",
              "\n",
              "          const docLinkHtml = 'Like what you see? Visit the ' +\n",
              "            '<a target=\"_blank\" href=https://colab.research.google.com/notebooks/data_table.ipynb>data table notebook</a>'\n",
              "            + ' to learn more about interactive tables.';\n",
              "          element.innerHTML = '';\n",
              "          dataTable['output_type'] = 'display_data';\n",
              "          await google.colab.output.renderOutput(dataTable, element);\n",
              "          const docLink = document.createElement('div');\n",
              "          docLink.innerHTML = docLinkHtml;\n",
              "          element.appendChild(docLink);\n",
              "        }\n",
              "      </script>\n",
              "    </div>\n",
              "  </div>\n",
              "  "
            ]
          },
          "metadata": {},
          "execution_count": 22
        }
      ]
    },
    {
      "cell_type": "markdown",
      "source": [
        "correlation matrix"
      ],
      "metadata": {
        "id": "aF5OW9EmKfYY"
      }
    },
    {
      "cell_type": "code",
      "source": [
        "DF = df.drop(columns='charges')"
      ],
      "metadata": {
        "execution": {
          "iopub.status.busy": "2023-02-22T04:22:01.329365Z",
          "iopub.execute_input": "2023-02-22T04:22:01.330274Z",
          "iopub.status.idle": "2023-02-22T04:22:01.337587Z",
          "shell.execute_reply.started": "2023-02-22T04:22:01.330238Z",
          "shell.execute_reply": "2023-02-22T04:22:01.336587Z"
        },
        "trusted": true,
        "id": "kPFXkM2uKfYZ"
      },
      "execution_count": 23,
      "outputs": []
    },
    {
      "cell_type": "code",
      "source": [
        "DF"
      ],
      "metadata": {
        "execution": {
          "iopub.status.busy": "2023-02-22T04:22:01.338928Z",
          "iopub.execute_input": "2023-02-22T04:22:01.339292Z",
          "iopub.status.idle": "2023-02-22T04:22:01.358414Z",
          "shell.execute_reply.started": "2023-02-22T04:22:01.339261Z",
          "shell.execute_reply": "2023-02-22T04:22:01.357273Z"
        },
        "trusted": true,
        "colab": {
          "base_uri": "https://localhost:8080/",
          "height": 423
        },
        "id": "u0Cm47OgKfYa",
        "outputId": "f0a1aade-9c76-47b0-a884-dbfd7c86c0ce"
      },
      "execution_count": 24,
      "outputs": [
        {
          "output_type": "execute_result",
          "data": {
            "text/plain": [
              "      age     bmi  children  sex_male  smoker_yes  region_northwest  \\\n",
              "0      19  27.900         0         0           1                 0   \n",
              "1      18  33.770         1         1           0                 0   \n",
              "2      28  33.000         3         1           0                 0   \n",
              "3      33  22.705         0         1           0                 1   \n",
              "4      32  28.880         0         1           0                 1   \n",
              "...   ...     ...       ...       ...         ...               ...   \n",
              "1333   50  30.970         3         1           0                 1   \n",
              "1334   18  31.920         0         0           0                 0   \n",
              "1335   18  36.850         0         0           0                 0   \n",
              "1336   21  25.800         0         0           0                 0   \n",
              "1337   61  29.070         0         0           1                 1   \n",
              "\n",
              "      region_southeast  region_southwest  \n",
              "0                    0                 1  \n",
              "1                    1                 0  \n",
              "2                    1                 0  \n",
              "3                    0                 0  \n",
              "4                    0                 0  \n",
              "...                ...               ...  \n",
              "1333                 0                 0  \n",
              "1334                 0                 0  \n",
              "1335                 1                 0  \n",
              "1336                 0                 1  \n",
              "1337                 0                 0  \n",
              "\n",
              "[1338 rows x 8 columns]"
            ],
            "text/html": [
              "\n",
              "  <div id=\"df-b3d28563-e897-41e9-842f-30e5484fea1d\">\n",
              "    <div class=\"colab-df-container\">\n",
              "      <div>\n",
              "<style scoped>\n",
              "    .dataframe tbody tr th:only-of-type {\n",
              "        vertical-align: middle;\n",
              "    }\n",
              "\n",
              "    .dataframe tbody tr th {\n",
              "        vertical-align: top;\n",
              "    }\n",
              "\n",
              "    .dataframe thead th {\n",
              "        text-align: right;\n",
              "    }\n",
              "</style>\n",
              "<table border=\"1\" class=\"dataframe\">\n",
              "  <thead>\n",
              "    <tr style=\"text-align: right;\">\n",
              "      <th></th>\n",
              "      <th>age</th>\n",
              "      <th>bmi</th>\n",
              "      <th>children</th>\n",
              "      <th>sex_male</th>\n",
              "      <th>smoker_yes</th>\n",
              "      <th>region_northwest</th>\n",
              "      <th>region_southeast</th>\n",
              "      <th>region_southwest</th>\n",
              "    </tr>\n",
              "  </thead>\n",
              "  <tbody>\n",
              "    <tr>\n",
              "      <th>0</th>\n",
              "      <td>19</td>\n",
              "      <td>27.900</td>\n",
              "      <td>0</td>\n",
              "      <td>0</td>\n",
              "      <td>1</td>\n",
              "      <td>0</td>\n",
              "      <td>0</td>\n",
              "      <td>1</td>\n",
              "    </tr>\n",
              "    <tr>\n",
              "      <th>1</th>\n",
              "      <td>18</td>\n",
              "      <td>33.770</td>\n",
              "      <td>1</td>\n",
              "      <td>1</td>\n",
              "      <td>0</td>\n",
              "      <td>0</td>\n",
              "      <td>1</td>\n",
              "      <td>0</td>\n",
              "    </tr>\n",
              "    <tr>\n",
              "      <th>2</th>\n",
              "      <td>28</td>\n",
              "      <td>33.000</td>\n",
              "      <td>3</td>\n",
              "      <td>1</td>\n",
              "      <td>0</td>\n",
              "      <td>0</td>\n",
              "      <td>1</td>\n",
              "      <td>0</td>\n",
              "    </tr>\n",
              "    <tr>\n",
              "      <th>3</th>\n",
              "      <td>33</td>\n",
              "      <td>22.705</td>\n",
              "      <td>0</td>\n",
              "      <td>1</td>\n",
              "      <td>0</td>\n",
              "      <td>1</td>\n",
              "      <td>0</td>\n",
              "      <td>0</td>\n",
              "    </tr>\n",
              "    <tr>\n",
              "      <th>4</th>\n",
              "      <td>32</td>\n",
              "      <td>28.880</td>\n",
              "      <td>0</td>\n",
              "      <td>1</td>\n",
              "      <td>0</td>\n",
              "      <td>1</td>\n",
              "      <td>0</td>\n",
              "      <td>0</td>\n",
              "    </tr>\n",
              "    <tr>\n",
              "      <th>...</th>\n",
              "      <td>...</td>\n",
              "      <td>...</td>\n",
              "      <td>...</td>\n",
              "      <td>...</td>\n",
              "      <td>...</td>\n",
              "      <td>...</td>\n",
              "      <td>...</td>\n",
              "      <td>...</td>\n",
              "    </tr>\n",
              "    <tr>\n",
              "      <th>1333</th>\n",
              "      <td>50</td>\n",
              "      <td>30.970</td>\n",
              "      <td>3</td>\n",
              "      <td>1</td>\n",
              "      <td>0</td>\n",
              "      <td>1</td>\n",
              "      <td>0</td>\n",
              "      <td>0</td>\n",
              "    </tr>\n",
              "    <tr>\n",
              "      <th>1334</th>\n",
              "      <td>18</td>\n",
              "      <td>31.920</td>\n",
              "      <td>0</td>\n",
              "      <td>0</td>\n",
              "      <td>0</td>\n",
              "      <td>0</td>\n",
              "      <td>0</td>\n",
              "      <td>0</td>\n",
              "    </tr>\n",
              "    <tr>\n",
              "      <th>1335</th>\n",
              "      <td>18</td>\n",
              "      <td>36.850</td>\n",
              "      <td>0</td>\n",
              "      <td>0</td>\n",
              "      <td>0</td>\n",
              "      <td>0</td>\n",
              "      <td>1</td>\n",
              "      <td>0</td>\n",
              "    </tr>\n",
              "    <tr>\n",
              "      <th>1336</th>\n",
              "      <td>21</td>\n",
              "      <td>25.800</td>\n",
              "      <td>0</td>\n",
              "      <td>0</td>\n",
              "      <td>0</td>\n",
              "      <td>0</td>\n",
              "      <td>0</td>\n",
              "      <td>1</td>\n",
              "    </tr>\n",
              "    <tr>\n",
              "      <th>1337</th>\n",
              "      <td>61</td>\n",
              "      <td>29.070</td>\n",
              "      <td>0</td>\n",
              "      <td>0</td>\n",
              "      <td>1</td>\n",
              "      <td>1</td>\n",
              "      <td>0</td>\n",
              "      <td>0</td>\n",
              "    </tr>\n",
              "  </tbody>\n",
              "</table>\n",
              "<p>1338 rows × 8 columns</p>\n",
              "</div>\n",
              "      <button class=\"colab-df-convert\" onclick=\"convertToInteractive('df-b3d28563-e897-41e9-842f-30e5484fea1d')\"\n",
              "              title=\"Convert this dataframe to an interactive table.\"\n",
              "              style=\"display:none;\">\n",
              "        \n",
              "  <svg xmlns=\"http://www.w3.org/2000/svg\" height=\"24px\"viewBox=\"0 0 24 24\"\n",
              "       width=\"24px\">\n",
              "    <path d=\"M0 0h24v24H0V0z\" fill=\"none\"/>\n",
              "    <path d=\"M18.56 5.44l.94 2.06.94-2.06 2.06-.94-2.06-.94-.94-2.06-.94 2.06-2.06.94zm-11 1L8.5 8.5l.94-2.06 2.06-.94-2.06-.94L8.5 2.5l-.94 2.06-2.06.94zm10 10l.94 2.06.94-2.06 2.06-.94-2.06-.94-.94-2.06-.94 2.06-2.06.94z\"/><path d=\"M17.41 7.96l-1.37-1.37c-.4-.4-.92-.59-1.43-.59-.52 0-1.04.2-1.43.59L10.3 9.45l-7.72 7.72c-.78.78-.78 2.05 0 2.83L4 21.41c.39.39.9.59 1.41.59.51 0 1.02-.2 1.41-.59l7.78-7.78 2.81-2.81c.8-.78.8-2.07 0-2.86zM5.41 20L4 18.59l7.72-7.72 1.47 1.35L5.41 20z\"/>\n",
              "  </svg>\n",
              "      </button>\n",
              "      \n",
              "  <style>\n",
              "    .colab-df-container {\n",
              "      display:flex;\n",
              "      flex-wrap:wrap;\n",
              "      gap: 12px;\n",
              "    }\n",
              "\n",
              "    .colab-df-convert {\n",
              "      background-color: #E8F0FE;\n",
              "      border: none;\n",
              "      border-radius: 50%;\n",
              "      cursor: pointer;\n",
              "      display: none;\n",
              "      fill: #1967D2;\n",
              "      height: 32px;\n",
              "      padding: 0 0 0 0;\n",
              "      width: 32px;\n",
              "    }\n",
              "\n",
              "    .colab-df-convert:hover {\n",
              "      background-color: #E2EBFA;\n",
              "      box-shadow: 0px 1px 2px rgba(60, 64, 67, 0.3), 0px 1px 3px 1px rgba(60, 64, 67, 0.15);\n",
              "      fill: #174EA6;\n",
              "    }\n",
              "\n",
              "    [theme=dark] .colab-df-convert {\n",
              "      background-color: #3B4455;\n",
              "      fill: #D2E3FC;\n",
              "    }\n",
              "\n",
              "    [theme=dark] .colab-df-convert:hover {\n",
              "      background-color: #434B5C;\n",
              "      box-shadow: 0px 1px 3px 1px rgba(0, 0, 0, 0.15);\n",
              "      filter: drop-shadow(0px 1px 2px rgba(0, 0, 0, 0.3));\n",
              "      fill: #FFFFFF;\n",
              "    }\n",
              "  </style>\n",
              "\n",
              "      <script>\n",
              "        const buttonEl =\n",
              "          document.querySelector('#df-b3d28563-e897-41e9-842f-30e5484fea1d button.colab-df-convert');\n",
              "        buttonEl.style.display =\n",
              "          google.colab.kernel.accessAllowed ? 'block' : 'none';\n",
              "\n",
              "        async function convertToInteractive(key) {\n",
              "          const element = document.querySelector('#df-b3d28563-e897-41e9-842f-30e5484fea1d');\n",
              "          const dataTable =\n",
              "            await google.colab.kernel.invokeFunction('convertToInteractive',\n",
              "                                                     [key], {});\n",
              "          if (!dataTable) return;\n",
              "\n",
              "          const docLinkHtml = 'Like what you see? Visit the ' +\n",
              "            '<a target=\"_blank\" href=https://colab.research.google.com/notebooks/data_table.ipynb>data table notebook</a>'\n",
              "            + ' to learn more about interactive tables.';\n",
              "          element.innerHTML = '';\n",
              "          dataTable['output_type'] = 'display_data';\n",
              "          await google.colab.output.renderOutput(dataTable, element);\n",
              "          const docLink = document.createElement('div');\n",
              "          docLink.innerHTML = docLinkHtml;\n",
              "          element.appendChild(docLink);\n",
              "        }\n",
              "      </script>\n",
              "    </div>\n",
              "  </div>\n",
              "  "
            ]
          },
          "metadata": {},
          "execution_count": 24
        }
      ]
    },
    {
      "cell_type": "code",
      "source": [
        "DF.corrwith(df['charges']).plot.bar(\n",
        "    figsize=(16,8), title='Correlation with Charges', rot=45, grid=True\n",
        ")\n"
      ],
      "metadata": {
        "execution": {
          "iopub.status.busy": "2023-02-22T04:22:01.359761Z",
          "iopub.execute_input": "2023-02-22T04:22:01.360317Z",
          "iopub.status.idle": "2023-02-22T04:22:01.740822Z",
          "shell.execute_reply.started": "2023-02-22T04:22:01.360283Z",
          "shell.execute_reply": "2023-02-22T04:22:01.739608Z"
        },
        "trusted": true,
        "colab": {
          "base_uri": "https://localhost:8080/",
          "height": 795
        },
        "id": "FqpGMzbFKfYb",
        "outputId": "90ff9dc3-7521-4bde-8678-67ae54ee5043"
      },
      "execution_count": 25,
      "outputs": [
        {
          "output_type": "execute_result",
          "data": {
            "text/plain": [
              "<Axes: title={'center': 'Correlation with Charges'}>"
            ]
          },
          "metadata": {},
          "execution_count": 25
        },
        {
          "output_type": "display_data",
          "data": {
            "text/plain": [
              "<Figure size 1600x800 with 1 Axes>"
            ],
            "image/png": "[encoded data removed]"
          },
          "metadata": {}
        }
      ]
    },
    {
      "cell_type": "code",
      "source": [
        "corr = df.corr()"
      ],
      "metadata": {
        "execution": {
          "iopub.status.busy": "2023-02-22T04:22:01.742684Z",
          "iopub.execute_input": "2023-02-22T04:22:01.743426Z",
          "iopub.status.idle": "2023-02-22T04:22:01.751456Z",
          "shell.execute_reply.started": "2023-02-22T04:22:01.743378Z",
          "shell.execute_reply": "2023-02-22T04:22:01.750190Z"
        },
        "trusted": true,
        "id": "8bGuNxm0KfYc"
      },
      "execution_count": 26,
      "outputs": []
    },
    {
      "cell_type": "code",
      "source": [
        "plt.figure(figsize=(16, 9))\n",
        "sns.heatmap(corr, annot=True)"
      ],
      "metadata": {
        "execution": {
          "iopub.status.busy": "2023-02-22T04:22:01.761311Z",
          "iopub.execute_input": "2023-02-22T04:22:01.761694Z",
          "iopub.status.idle": "2023-02-22T04:22:02.878303Z",
          "shell.execute_reply.started": "2023-02-22T04:22:01.761663Z",
          "shell.execute_reply": "2023-02-22T04:22:02.877112Z"
        },
        "trusted": true,
        "colab": {
          "base_uri": "https://localhost:8080/",
          "height": 885
        },
        "id": "8GIxgu5bKfYc",
        "outputId": "6d4949fa-23ba-470c-a6bc-62fa06b08f31"
      },
      "execution_count": 27,
      "outputs": [
        {
          "output_type": "execute_result",
          "data": {
            "text/plain": [
              "<Axes: >"
            ]
          },
          "metadata": {},
          "execution_count": 27
        },
        {
          "output_type": "display_data",
          "data": {
            "text/plain": [
              "<Figure size 1600x900 with 2 Axes>"
            ],
            "image/png": "[encoded data removed]"
          },
          "metadata": {}
        }
      ]
    },
    {
      "cell_type": "markdown",
      "source": [
        "# > Split the dataset"
      ],
      "metadata": {
        "id": "LLwT3LHGKfYd"
      }
    },
    {
      "cell_type": "code",
      "source": [
        "df"
      ],
      "metadata": {
        "execution": {
          "iopub.status.busy": "2023-02-22T04:22:02.879955Z",
          "iopub.execute_input": "2023-02-22T04:22:02.880399Z",
          "iopub.status.idle": "2023-02-22T04:22:02.904076Z",
          "shell.execute_reply.started": "2023-02-22T04:22:02.880360Z",
          "shell.execute_reply": "2023-02-22T04:22:02.902935Z"
        },
        "trusted": true,
        "colab": {
          "base_uri": "https://localhost:8080/",
          "height": 423
        },
        "id": "Jd5mHufyKfYe",
        "outputId": "fb177c8d-d15b-4e98-bfd5-92f841fef794"
      },
      "execution_count": 28,
      "outputs": [
        {
          "output_type": "execute_result",
          "data": {
            "text/plain": [
              "      age     bmi  children      charges  sex_male  smoker_yes  \\\n",
              "0      19  27.900         0  16884.92400         0           1   \n",
              "1      18  33.770         1   1725.55230         1           0   \n",
              "2      28  33.000         3   4449.46200         1           0   \n",
              "3      33  22.705         0  21984.47061         1           0   \n",
              "4      32  28.880         0   3866.85520         1           0   \n",
              "...   ...     ...       ...          ...       ...         ...   \n",
              "1333   50  30.970         3  10600.54830         1           0   \n",
              "1334   18  31.920         0   2205.98080         0           0   \n",
              "1335   18  36.850         0   1629.83350         0           0   \n",
              "1336   21  25.800         0   2007.94500         0           0   \n",
              "1337   61  29.070         0  29141.36030         0           1   \n",
              "\n",
              "      region_northwest  region_southeast  region_southwest  \n",
              "0                    0                 0                 1  \n",
              "1                    0                 1                 0  \n",
              "2                    0                 1                 0  \n",
              "3                    1                 0                 0  \n",
              "4                    1                 0                 0  \n",
              "...                ...               ...               ...  \n",
              "1333                 1                 0                 0  \n",
              "1334                 0                 0                 0  \n",
              "1335                 0                 1                 0  \n",
              "1336                 0                 0                 1  \n",
              "1337                 1                 0                 0  \n",
              "\n",
              "[1338 rows x 9 columns]"
            ],
            "text/html": [
              "\n",
              "  <div id=\"df-65126298-0617-43be-b6c6-4b46436978ce\">\n",
              "    <div class=\"colab-df-container\">\n",
              "      <div>\n",
              "<style scoped>\n",
              "    .dataframe tbody tr th:only-of-type {\n",
              "        vertical-align: middle;\n",
              "    }\n",
              "\n",
              "    .dataframe tbody tr th {\n",
              "        vertical-align: top;\n",
              "    }\n",
              "\n",
              "    .dataframe thead th {\n",
              "        text-align: right;\n",
              "    }\n",
              "</style>\n",
              "<table border=\"1\" class=\"dataframe\">\n",
              "  <thead>\n",
              "    <tr style=\"text-align: right;\">\n",
              "      <th></th>\n",
              "      <th>age</th>\n",
              "      <th>bmi</th>\n",
              "      <th>children</th>\n",
              "      <th>charges</th>\n",
              "      <th>sex_male</th>\n",
              "      <th>smoker_yes</th>\n",
              "      <th>region_northwest</th>\n",
              "      <th>region_southeast</th>\n",
              "      <th>region_southwest</th>\n",
              "    </tr>\n",
              "  </thead>\n",
              "  <tbody>\n",
              "    <tr>\n",
              "      <th>0</th>\n",
              "      <td>19</td>\n",
              "      <td>27.900</td>\n",
              "      <td>0</td>\n",
              "      <td>16884.92400</td>\n",
              "      <td>0</td>\n",
              "      <td>1</td>\n",
              "      <td>0</td>\n",
              "      <td>0</td>\n",
              "      <td>1</td>\n",
              "    </tr>\n",
              "    <tr>\n",
              "      <th>1</th>\n",
              "      <td>18</td>\n",
              "      <td>33.770</td>\n",
              "      <td>1</td>\n",
              "      <td>1725.55230</td>\n",
              "      <td>1</td>\n",
              "      <td>0</td>\n",
              "      <td>0</td>\n",
              "      <td>1</td>\n",
              "      <td>0</td>\n",
              "    </tr>\n",
              "    <tr>\n",
              "      <th>2</th>\n",
              "      <td>28</td>\n",
              "      <td>33.000</td>\n",
              "      <td>3</td>\n",
              "      <td>4449.46200</td>\n",
              "      <td>1</td>\n",
              "      <td>0</td>\n",
              "      <td>0</td>\n",
              "      <td>1</td>\n",
              "      <td>0</td>\n",
              "    </tr>\n",
              "    <tr>\n",
              "      <th>3</th>\n",
              "      <td>33</td>\n",
              "      <td>22.705</td>\n",
              "      <td>0</td>\n",
              "      <td>21984.47061</td>\n",
              "      <td>1</td>\n",
              "      <td>0</td>\n",
              "      <td>1</td>\n",
              "      <td>0</td>\n",
              "      <td>0</td>\n",
              "    </tr>\n",
              "    <tr>\n",
              "      <th>4</th>\n",
              "      <td>32</td>\n",
              "      <td>28.880</td>\n",
              "      <td>0</td>\n",
              "      <td>3866.85520</td>\n",
              "      <td>1</td>\n",
              "      <td>0</td>\n",
              "      <td>1</td>\n",
              "      <td>0</td>\n",
              "      <td>0</td>\n",
              "    </tr>\n",
              "    <tr>\n",
              "      <th>...</th>\n",
              "      <td>...</td>\n",
              "      <td>...</td>\n",
              "      <td>...</td>\n",
              "      <td>...</td>\n",
              "      <td>...</td>\n",
              "      <td>...</td>\n",
              "      <td>...</td>\n",
              "      <td>...</td>\n",
              "      <td>...</td>\n",
              "    </tr>\n",
              "    <tr>\n",
              "      <th>1333</th>\n",
              "      <td>50</td>\n",
              "      <td>30.970</td>\n",
              "      <td>3</td>\n",
              "      <td>10600.54830</td>\n",
              "      <td>1</td>\n",
              "      <td>0</td>\n",
              "      <td>1</td>\n",
              "      <td>0</td>\n",
              "      <td>0</td>\n",
              "    </tr>\n",
              "    <tr>\n",
              "      <th>1334</th>\n",
              "      <td>18</td>\n",
              "      <td>31.920</td>\n",
              "      <td>0</td>\n",
              "      <td>2205.98080</td>\n",
              "      <td>0</td>\n",
              "      <td>0</td>\n",
              "      <td>0</td>\n",
              "      <td>0</td>\n",
              "      <td>0</td>\n",
              "    </tr>\n",
              "    <tr>\n",
              "      <th>1335</th>\n",
              "      <td>18</td>\n",
              "      <td>36.850</td>\n",
              "      <td>0</td>\n",
              "      <td>1629.83350</td>\n",
              "      <td>0</td>\n",
              "      <td>0</td>\n",
              "      <td>0</td>\n",
              "      <td>1</td>\n",
              "      <td>0</td>\n",
              "    </tr>\n",
              "    <tr>\n",
              "      <th>1336</th>\n",
              "      <td>21</td>\n",
              "      <td>25.800</td>\n",
              "      <td>0</td>\n",
              "      <td>2007.94500</td>\n",
              "      <td>0</td>\n",
              "      <td>0</td>\n",
              "      <td>0</td>\n",
              "      <td>0</td>\n",
              "      <td>1</td>\n",
              "    </tr>\n",
              "    <tr>\n",
              "      <th>1337</th>\n",
              "      <td>61</td>\n",
              "      <td>29.070</td>\n",
              "      <td>0</td>\n",
              "      <td>29141.36030</td>\n",
              "      <td>0</td>\n",
              "      <td>1</td>\n",
              "      <td>1</td>\n",
              "      <td>0</td>\n",
              "      <td>0</td>\n",
              "    </tr>\n",
              "  </tbody>\n",
              "</table>\n",
              "<p>1338 rows × 9 columns</p>\n",
              "</div>\n",
              "      <button class=\"colab-df-convert\" onclick=\"convertToInteractive('df-65126298-0617-43be-b6c6-4b46436978ce')\"\n",
              "              title=\"Convert this dataframe to an interactive table.\"\n",
              "              style=\"display:none;\">\n",
              "        \n",
              "  <svg xmlns=\"http://www.w3.org/2000/svg\" height=\"24px\"viewBox=\"0 0 24 24\"\n",
              "       width=\"24px\">\n",
              "    <path d=\"M0 0h24v24H0V0z\" fill=\"none\"/>\n",
              "    <path d=\"M18.56 5.44l.94 2.06.94-2.06 2.06-.94-2.06-.94-.94-2.06-.94 2.06-2.06.94zm-11 1L8.5 8.5l.94-2.06 2.06-.94-2.06-.94L8.5 2.5l-.94 2.06-2.06.94zm10 10l.94 2.06.94-2.06 2.06-.94-2.06-.94-.94-2.06-.94 2.06-2.06.94z\"/><path d=\"M17.41 7.96l-1.37-1.37c-.4-.4-.92-.59-1.43-.59-.52 0-1.04.2-1.43.59L10.3 9.45l-7.72 7.72c-.78.78-.78 2.05 0 2.83L4 21.41c.39.39.9.59 1.41.59.51 0 1.02-.2 1.41-.59l7.78-7.78 2.81-2.81c.8-.78.8-2.07 0-2.86zM5.41 20L4 18.59l7.72-7.72 1.47 1.35L5.41 20z\"/>\n",
              "  </svg>\n",
              "      </button>\n",
              "      \n",
              "  <style>\n",
              "    .colab-df-container {\n",
              "      display:flex;\n",
              "      flex-wrap:wrap;\n",
              "      gap: 12px;\n",
              "    }\n",
              "\n",
              "    .colab-df-convert {\n",
              "      background-color: #E8F0FE;\n",
              "      border: none;\n",
              "      border-radius: 50%;\n",
              "      cursor: pointer;\n",
              "      display: none;\n",
              "      fill: #1967D2;\n",
              "      height: 32px;\n",
              "      padding: 0 0 0 0;\n",
              "      width: 32px;\n",
              "    }\n",
              "\n",
              "    .colab-df-convert:hover {\n",
              "      background-color: #E2EBFA;\n",
              "      box-shadow: 0px 1px 2px rgba(60, 64, 67, 0.3), 0px 1px 3px 1px rgba(60, 64, 67, 0.15);\n",
              "      fill: #174EA6;\n",
              "    }\n",
              "\n",
              "    [theme=dark] .colab-df-convert {\n",
              "      background-color: #3B4455;\n",
              "      fill: #D2E3FC;\n",
              "    }\n",
              "\n",
              "    [theme=dark] .colab-df-convert:hover {\n",
              "      background-color: #434B5C;\n",
              "      box-shadow: 0px 1px 3px 1px rgba(0, 0, 0, 0.15);\n",
              "      filter: drop-shadow(0px 1px 2px rgba(0, 0, 0, 0.3));\n",
              "      fill: #FFFFFF;\n",
              "    }\n",
              "  </style>\n",
              "\n",
              "      <script>\n",
              "        const buttonEl =\n",
              "          document.querySelector('#df-65126298-0617-43be-b6c6-4b46436978ce button.colab-df-convert');\n",
              "        buttonEl.style.display =\n",
              "          google.colab.kernel.accessAllowed ? 'block' : 'none';\n",
              "\n",
              "        async function convertToInteractive(key) {\n",
              "          const element = document.querySelector('#df-65126298-0617-43be-b6c6-4b46436978ce');\n",
              "          const dataTable =\n",
              "            await google.colab.kernel.invokeFunction('convertToInteractive',\n",
              "                                                     [key], {});\n",
              "          if (!dataTable) return;\n",
              "\n",
              "          const docLinkHtml = 'Like what you see? Visit the ' +\n",
              "            '<a target=\"_blank\" href=https://colab.research.google.com/notebooks/data_table.ipynb>data table notebook</a>'\n",
              "            + ' to learn more about interactive tables.';\n",
              "          element.innerHTML = '';\n",
              "          dataTable['output_type'] = 'display_data';\n",
              "          await google.colab.output.renderOutput(dataTable, element);\n",
              "          const docLink = document.createElement('div');\n",
              "          docLink.innerHTML = docLinkHtml;\n",
              "          element.appendChild(docLink);\n",
              "        }\n",
              "      </script>\n",
              "    </div>\n",
              "  </div>\n",
              "  "
            ]
          },
          "metadata": {},
          "execution_count": 28
        }
      ]
    },
    {
      "cell_type": "code",
      "source": [
        "x = df.drop(columns='charges')\n",
        "x"
      ],
      "metadata": {
        "execution": {
          "iopub.status.busy": "2023-02-22T04:22:02.905873Z",
          "iopub.execute_input": "2023-02-22T04:22:02.906616Z",
          "iopub.status.idle": "2023-02-22T04:22:02.928025Z",
          "shell.execute_reply.started": "2023-02-22T04:22:02.906567Z",
          "shell.execute_reply": "2023-02-22T04:22:02.926705Z"
        },
        "trusted": true,
        "colab": {
          "base_uri": "https://localhost:8080/",
          "height": 423
        },
        "id": "x2ogwTHaKfYf",
        "outputId": "e3385a8c-1276-4b90-c08a-e44e41741f52"
      },
      "execution_count": 29,
      "outputs": [
        {
          "output_type": "execute_result",
          "data": {
            "text/plain": [
              "      age     bmi  children  sex_male  smoker_yes  region_northwest  \\\n",
              "0      19  27.900         0         0           1                 0   \n",
              "1      18  33.770         1         1           0                 0   \n",
              "2      28  33.000         3         1           0                 0   \n",
              "3      33  22.705         0         1           0                 1   \n",
              "4      32  28.880         0         1           0                 1   \n",
              "...   ...     ...       ...       ...         ...               ...   \n",
              "1333   50  30.970         3         1           0                 1   \n",
              "1334   18  31.920         0         0           0                 0   \n",
              "1335   18  36.850         0         0           0                 0   \n",
              "1336   21  25.800         0         0           0                 0   \n",
              "1337   61  29.070         0         0           1                 1   \n",
              "\n",
              "      region_southeast  region_southwest  \n",
              "0                    0                 1  \n",
              "1                    1                 0  \n",
              "2                    1                 0  \n",
              "3                    0                 0  \n",
              "4                    0                 0  \n",
              "...                ...               ...  \n",
              "1333                 0                 0  \n",
              "1334                 0                 0  \n",
              "1335                 1                 0  \n",
              "1336                 0                 1  \n",
              "1337                 0                 0  \n",
              "\n",
              "[1338 rows x 8 columns]"
            ],
            "text/html": [
              "\n",
              "  <div id=\"df-bfaa5c13-60e6-4f9e-b282-98f56e3558d1\">\n",
              "    <div class=\"colab-df-container\">\n",
              "      <div>\n",
              "<style scoped>\n",
              "    .dataframe tbody tr th:only-of-type {\n",
              "        vertical-align: middle;\n",
              "    }\n",
              "\n",
              "    .dataframe tbody tr th {\n",
              "        vertical-align: top;\n",
              "    }\n",
              "\n",
              "    .dataframe thead th {\n",
              "        text-align: right;\n",
              "    }\n",
              "</style>\n",
              "<table border=\"1\" class=\"dataframe\">\n",
              "  <thead>\n",
              "    <tr style=\"text-align: right;\">\n",
              "      <th></th>\n",
              "      <th>age</th>\n",
              "      <th>bmi</th>\n",
              "      <th>children</th>\n",
              "      <th>sex_male</th>\n",
              "      <th>smoker_yes</th>\n",
              "      <th>region_northwest</th>\n",
              "      <th>region_southeast</th>\n",
              "      <th>region_southwest</th>\n",
              "    </tr>\n",
              "  </thead>\n",
              "  <tbody>\n",
              "    <tr>\n",
              "      <th>0</th>\n",
              "      <td>19</td>\n",
              "      <td>27.900</td>\n",
              "      <td>0</td>\n",
              "      <td>0</td>\n",
              "      <td>1</td>\n",
              "      <td>0</td>\n",
              "      <td>0</td>\n",
              "      <td>1</td>\n",
              "    </tr>\n",
              "    <tr>\n",
              "      <th>1</th>\n",
              "      <td>18</td>\n",
              "      <td>33.770</td>\n",
              "      <td>1</td>\n",
              "      <td>1</td>\n",
              "      <td>0</td>\n",
              "      <td>0</td>\n",
              "      <td>1</td>\n",
              "      <td>0</td>\n",
              "    </tr>\n",
              "    <tr>\n",
              "      <th>2</th>\n",
              "      <td>28</td>\n",
              "      <td>33.000</td>\n",
              "      <td>3</td>\n",
              "      <td>1</td>\n",
              "      <td>0</td>\n",
              "      <td>0</td>\n",
              "      <td>1</td>\n",
              "      <td>0</td>\n",
              "    </tr>\n",
              "    <tr>\n",
              "      <th>3</th>\n",
              "      <td>33</td>\n",
              "      <td>22.705</td>\n",
              "      <td>0</td>\n",
              "      <td>1</td>\n",
              "      <td>0</td>\n",
              "      <td>1</td>\n",
              "      <td>0</td>\n",
              "      <td>0</td>\n",
              "    </tr>\n",
              "    <tr>\n",
              "      <th>4</th>\n",
              "      <td>32</td>\n",
              "      <td>28.880</td>\n",
              "      <td>0</td>\n",
              "      <td>1</td>\n",
              "      <td>0</td>\n",
              "      <td>1</td>\n",
              "      <td>0</td>\n",
              "      <td>0</td>\n",
              "    </tr>\n",
              "    <tr>\n",
              "      <th>...</th>\n",
              "      <td>...</td>\n",
              "      <td>...</td>\n",
              "      <td>...</td>\n",
              "      <td>...</td>\n",
              "      <td>...</td>\n",
              "      <td>...</td>\n",
              "      <td>...</td>\n",
              "      <td>...</td>\n",
              "    </tr>\n",
              "    <tr>\n",
              "      <th>1333</th>\n",
              "      <td>50</td>\n",
              "      <td>30.970</td>\n",
              "      <td>3</td>\n",
              "      <td>1</td>\n",
              "      <td>0</td>\n",
              "      <td>1</td>\n",
              "      <td>0</td>\n",
              "      <td>0</td>\n",
              "    </tr>\n",
              "    <tr>\n",
              "      <th>1334</th>\n",
              "      <td>18</td>\n",
              "      <td>31.920</td>\n",
              "      <td>0</td>\n",
              "      <td>0</td>\n",
              "      <td>0</td>\n",
              "      <td>0</td>\n",
              "      <td>0</td>\n",
              "      <td>0</td>\n",
              "    </tr>\n",
              "    <tr>\n",
              "      <th>1335</th>\n",
              "      <td>18</td>\n",
              "      <td>36.850</td>\n",
              "      <td>0</td>\n",
              "      <td>0</td>\n",
              "      <td>0</td>\n",
              "      <td>0</td>\n",
              "      <td>1</td>\n",
              "      <td>0</td>\n",
              "    </tr>\n",
              "    <tr>\n",
              "      <th>1336</th>\n",
              "      <td>21</td>\n",
              "      <td>25.800</td>\n",
              "      <td>0</td>\n",
              "      <td>0</td>\n",
              "      <td>0</td>\n",
              "      <td>0</td>\n",
              "      <td>0</td>\n",
              "      <td>1</td>\n",
              "    </tr>\n",
              "    <tr>\n",
              "      <th>1337</th>\n",
              "      <td>61</td>\n",
              "      <td>29.070</td>\n",
              "      <td>0</td>\n",
              "      <td>0</td>\n",
              "      <td>1</td>\n",
              "      <td>1</td>\n",
              "      <td>0</td>\n",
              "      <td>0</td>\n",
              "    </tr>\n",
              "  </tbody>\n",
              "</table>\n",
              "<p>1338 rows × 8 columns</p>\n",
              "</div>\n",
              "      <button class=\"colab-df-convert\" onclick=\"convertToInteractive('df-bfaa5c13-60e6-4f9e-b282-98f56e3558d1')\"\n",
              "              title=\"Convert this dataframe to an interactive table.\"\n",
              "              style=\"display:none;\">\n",
              "        \n",
              "  <svg xmlns=\"http://www.w3.org/2000/svg\" height=\"24px\"viewBox=\"0 0 24 24\"\n",
              "       width=\"24px\">\n",
              "    <path d=\"M0 0h24v24H0V0z\" fill=\"none\"/>\n",
              "    <path d=\"M18.56 5.44l.94 2.06.94-2.06 2.06-.94-2.06-.94-.94-2.06-.94 2.06-2.06.94zm-11 1L8.5 8.5l.94-2.06 2.06-.94-2.06-.94L8.5 2.5l-.94 2.06-2.06.94zm10 10l.94 2.06.94-2.06 2.06-.94-2.06-.94-.94-2.06-.94 2.06-2.06.94z\"/><path d=\"M17.41 7.96l-1.37-1.37c-.4-.4-.92-.59-1.43-.59-.52 0-1.04.2-1.43.59L10.3 9.45l-7.72 7.72c-.78.78-.78 2.05 0 2.83L4 21.41c.39.39.9.59 1.41.59.51 0 1.02-.2 1.41-.59l7.78-7.78 2.81-2.81c.8-.78.8-2.07 0-2.86zM5.41 20L4 18.59l7.72-7.72 1.47 1.35L5.41 20z\"/>\n",
              "  </svg>\n",
              "      </button>\n",
              "      \n",
              "  <style>\n",
              "    .colab-df-container {\n",
              "      display:flex;\n",
              "      flex-wrap:wrap;\n",
              "      gap: 12px;\n",
              "    }\n",
              "\n",
              "    .colab-df-convert {\n",
              "      background-color: #E8F0FE;\n",
              "      border: none;\n",
              "      border-radius: 50%;\n",
              "      cursor: pointer;\n",
              "      display: none;\n",
              "      fill: #1967D2;\n",
              "      height: 32px;\n",
              "      padding: 0 0 0 0;\n",
              "      width: 32px;\n",
              "    }\n",
              "\n",
              "    .colab-df-convert:hover {\n",
              "      background-color: #E2EBFA;\n",
              "      box-shadow: 0px 1px 2px rgba(60, 64, 67, 0.3), 0px 1px 3px 1px rgba(60, 64, 67, 0.15);\n",
              "      fill: #174EA6;\n",
              "    }\n",
              "\n",
              "    [theme=dark] .colab-df-convert {\n",
              "      background-color: #3B4455;\n",
              "      fill: #D2E3FC;\n",
              "    }\n",
              "\n",
              "    [theme=dark] .colab-df-convert:hover {\n",
              "      background-color: #434B5C;\n",
              "      box-shadow: 0px 1px 3px 1px rgba(0, 0, 0, 0.15);\n",
              "      filter: drop-shadow(0px 1px 2px rgba(0, 0, 0, 0.3));\n",
              "      fill: #FFFFFF;\n",
              "    }\n",
              "  </style>\n",
              "\n",
              "      <script>\n",
              "        const buttonEl =\n",
              "          document.querySelector('#df-bfaa5c13-60e6-4f9e-b282-98f56e3558d1 button.colab-df-convert');\n",
              "        buttonEl.style.display =\n",
              "          google.colab.kernel.accessAllowed ? 'block' : 'none';\n",
              "\n",
              "        async function convertToInteractive(key) {\n",
              "          const element = document.querySelector('#df-bfaa5c13-60e6-4f9e-b282-98f56e3558d1');\n",
              "          const dataTable =\n",
              "            await google.colab.kernel.invokeFunction('convertToInteractive',\n",
              "                                                     [key], {});\n",
              "          if (!dataTable) return;\n",
              "\n",
              "          const docLinkHtml = 'Like what you see? Visit the ' +\n",
              "            '<a target=\"_blank\" href=https://colab.research.google.com/notebooks/data_table.ipynb>data table notebook</a>'\n",
              "            + ' to learn more about interactive tables.';\n",
              "          element.innerHTML = '';\n",
              "          dataTable['output_type'] = 'display_data';\n",
              "          await google.colab.output.renderOutput(dataTable, element);\n",
              "          const docLink = document.createElement('div');\n",
              "          docLink.innerHTML = docLinkHtml;\n",
              "          element.appendChild(docLink);\n",
              "        }\n",
              "      </script>\n",
              "    </div>\n",
              "  </div>\n",
              "  "
            ]
          },
          "metadata": {},
          "execution_count": 29
        }
      ]
    },
    {
      "cell_type": "code",
      "source": [
        "y = df['charges']\n",
        "y"
      ],
      "metadata": {
        "execution": {
          "iopub.status.busy": "2023-02-22T04:22:02.929812Z",
          "iopub.execute_input": "2023-02-22T04:22:02.930913Z",
          "iopub.status.idle": "2023-02-22T04:22:02.941809Z",
          "shell.execute_reply.started": "2023-02-22T04:22:02.930866Z",
          "shell.execute_reply": "2023-02-22T04:22:02.940645Z"
        },
        "trusted": true,
        "colab": {
          "base_uri": "https://localhost:8080/"
        },
        "id": "dC_Rip84KfYg",
        "outputId": "a17cdc38-d7ec-4bbc-a02b-dad7efe2cb8a"
      },
      "execution_count": 30,
      "outputs": [
        {
          "output_type": "execute_result",
          "data": {
            "text/plain": [
              "0       16884.92400\n",
              "1        1725.55230\n",
              "2        4449.46200\n",
              "3       21984.47061\n",
              "4        3866.85520\n",
              "           ...     \n",
              "1333    10600.54830\n",
              "1334     2205.98080\n",
              "1335     1629.83350\n",
              "1336     2007.94500\n",
              "1337    29141.36030\n",
              "Name: charges, Length: 1338, dtype: float64"
            ]
          },
          "metadata": {},
          "execution_count": 30
        }
      ]
    },
    {
      "cell_type": "code",
      "source": [
        "from sklearn.model_selection import train_test_split\n",
        "x_train,x_test,y_train,y_test = train_test_split(x,y,test_size = 0.2,random_state=0) "
      ],
      "metadata": {
        "execution": {
          "iopub.status.busy": "2023-02-22T04:22:02.944648Z",
          "iopub.execute_input": "2023-02-22T04:22:02.945376Z",
          "iopub.status.idle": "2023-02-22T04:22:03.144658Z",
          "shell.execute_reply.started": "2023-02-22T04:22:02.945328Z",
          "shell.execute_reply": "2023-02-22T04:22:03.143288Z"
        },
        "trusted": true,
        "id": "qhQqOtDmKfYh"
      },
      "execution_count": 31,
      "outputs": []
    },
    {
      "cell_type": "code",
      "source": [
        "print(x_train.shape)\n",
        "print(x_test.shape)\n",
        "print(y_train.shape)\n",
        "print(y_test.shape)"
      ],
      "metadata": {
        "execution": {
          "iopub.status.busy": "2023-02-22T04:22:03.146463Z",
          "iopub.execute_input": "2023-02-22T04:22:03.147177Z",
          "iopub.status.idle": "2023-02-22T04:22:03.154980Z",
          "shell.execute_reply.started": "2023-02-22T04:22:03.147130Z",
          "shell.execute_reply": "2023-02-22T04:22:03.153686Z"
        },
        "trusted": true,
        "colab": {
          "base_uri": "https://localhost:8080/"
        },
        "id": "A7gXFDKCKfYi",
        "outputId": "1d577ada-db01-4a3d-ea72-bf24f260b11a"
      },
      "execution_count": 32,
      "outputs": [
        {
          "output_type": "stream",
          "name": "stdout",
          "text": [
            "(1070, 8)\n",
            "(268, 8)\n",
            "(1070,)\n",
            "(268,)\n"
          ]
        }
      ]
    },
    {
      "cell_type": "markdown",
      "source": [
        "Feature scaling"
      ],
      "metadata": {
        "id": "XRaAeiAtKfYk"
      }
    },
    {
      "cell_type": "code",
      "source": [
        "from sklearn.preprocessing import StandardScaler\n",
        "sc = StandardScaler()"
      ],
      "metadata": {
        "execution": {
          "iopub.status.busy": "2023-02-22T04:22:03.156728Z",
          "iopub.execute_input": "2023-02-22T04:22:03.157181Z",
          "iopub.status.idle": "2023-02-22T04:22:03.166530Z",
          "shell.execute_reply.started": "2023-02-22T04:22:03.157149Z",
          "shell.execute_reply": "2023-02-22T04:22:03.165302Z"
        },
        "trusted": true,
        "id": "F4nHYwkDKfYn"
      },
      "execution_count": 33,
      "outputs": []
    },
    {
      "cell_type": "code",
      "source": [
        "x_train = sc.fit_transform(x_train)\n",
        "x_test = sc.transform(x_test)"
      ],
      "metadata": {
        "execution": {
          "iopub.status.busy": "2023-02-22T04:22:03.168146Z",
          "iopub.execute_input": "2023-02-22T04:22:03.168552Z",
          "iopub.status.idle": "2023-02-22T04:22:03.182941Z",
          "shell.execute_reply.started": "2023-02-22T04:22:03.168519Z",
          "shell.execute_reply": "2023-02-22T04:22:03.181705Z"
        },
        "trusted": true,
        "id": "XzkppKIfKfYo"
      },
      "execution_count": 34,
      "outputs": []
    },
    {
      "cell_type": "code",
      "source": [
        "x_train"
      ],
      "metadata": {
        "execution": {
          "iopub.status.busy": "2023-02-22T04:22:03.184543Z",
          "iopub.execute_input": "2023-02-22T04:22:03.184988Z",
          "iopub.status.idle": "2023-02-22T04:22:03.192675Z",
          "shell.execute_reply.started": "2023-02-22T04:22:03.184954Z",
          "shell.execute_reply": "2023-02-22T04:22:03.191712Z"
        },
        "trusted": true,
        "colab": {
          "base_uri": "https://localhost:8080/"
        },
        "id": "pMAuXgbhKfYp",
        "outputId": "b641091a-e0ff-4fdf-b7fb-ffaed3c00211"
      },
      "execution_count": 35,
      "outputs": [
        {
          "output_type": "execute_result",
          "data": {
            "text/plain": [
              "array([[-0.14853305,  0.54530479,  2.41394802, ..., -0.55791981,\n",
              "        -0.6155209 ,  1.70862925],\n",
              "       [-1.49780784,  0.59867181, -0.89219519, ..., -0.55791981,\n",
              "         1.6246402 , -0.58526447],\n",
              "       [-1.14273553,  0.96092064,  0.76087642, ..., -0.55791981,\n",
              "        -0.6155209 , -0.58526447],\n",
              "       ...,\n",
              "       [ 0.06451033, -0.91339361, -0.89219519, ..., -0.55791981,\n",
              "         1.6246402 , -0.58526447],\n",
              "       [-1.42679338,  0.77656186, -0.89219519, ...,  1.79237229,\n",
              "        -0.6155209 , -0.58526447],\n",
              "       [-0.4325909 , -1.97749955, -0.06565939, ..., -0.55791981,\n",
              "        -0.6155209 ,  1.70862925]])"
            ]
          },
          "metadata": {},
          "execution_count": 35
        }
      ]
    },
    {
      "cell_type": "code",
      "source": [
        "x_test"
      ],
      "metadata": {
        "execution": {
          "iopub.status.busy": "2023-02-22T04:22:03.194077Z",
          "iopub.execute_input": "2023-02-22T04:22:03.194970Z",
          "iopub.status.idle": "2023-02-22T04:22:03.205804Z",
          "shell.execute_reply.started": "2023-02-22T04:22:03.194918Z",
          "shell.execute_reply": "2023-02-22T04:22:03.204260Z"
        },
        "trusted": true,
        "colab": {
          "base_uri": "https://localhost:8080/"
        },
        "id": "Axp71aZCKfYq",
        "outputId": "6334a95f-4452-485d-ee7b-15858583f363"
      },
      "execution_count": 36,
      "outputs": [
        {
          "output_type": "execute_result",
          "data": {
            "text/plain": [
              "array([[ 0.91668389, -0.08539629, -0.06565939, ..., -0.55791981,\n",
              "        -0.6155209 ,  1.70862925],\n",
              "       [ 0.56161157, -0.21962242, -0.06565939, ..., -0.55791981,\n",
              "         1.6246402 , -0.58526447],\n",
              "       [ 0.63262604,  1.59081313,  0.76087642, ...,  1.79237229,\n",
              "        -0.6155209 , -0.58526447],\n",
              "       ...,\n",
              "       [ 1.2717562 ,  1.54472343, -0.89219519, ..., -0.55791981,\n",
              "        -0.6155209 , -0.58526447],\n",
              "       [-0.64563429,  1.34581001,  1.58741222, ..., -0.55791981,\n",
              "         1.6246402 , -0.58526447],\n",
              "       [ 0.49059711, -0.95948331,  1.58741222, ..., -0.55791981,\n",
              "        -0.6155209 , -0.58526447]])"
            ]
          },
          "metadata": {},
          "execution_count": 36
        }
      ]
    },
    {
      "cell_type": "markdown",
      "source": [
        "Model building\n"
      ],
      "metadata": {
        "id": "IJzYcahzKfYr"
      }
    },
    {
      "cell_type": "code",
      "source": [
        "from sklearn.linear_model import LinearRegression\n",
        "lr = LinearRegression()\n",
        "lr.fit(x_train, y_train)"
      ],
      "metadata": {
        "execution": {
          "iopub.status.busy": "2023-02-22T04:22:03.207564Z",
          "iopub.execute_input": "2023-02-22T04:22:03.207920Z",
          "iopub.status.idle": "2023-02-22T04:22:03.304022Z",
          "shell.execute_reply.started": "2023-02-22T04:22:03.207888Z",
          "shell.execute_reply": "2023-02-22T04:22:03.302625Z"
        },
        "trusted": true,
        "colab": {
          "base_uri": "https://localhost:8080/",
          "height": 74
        },
        "id": "xrnjwy8BKfYr",
        "outputId": "2beb66b3-d3b5-4889-a5f6-de78ccd42adf"
      },
      "execution_count": 37,
      "outputs": [
        {
          "output_type": "execute_result",
          "data": {
            "text/plain": [
              "LinearRegression()"
            ],
            "text/html": [
              "<style>#sk-container-id-1 {color: black;background-color: white;}#sk-container-id-1 pre{padding: 0;}#sk-container-id-1 div.sk-toggleable {background-color: white;}#sk-container-id-1 label.sk-toggleable__label {cursor: pointer;display: block;width: 100%;margin-bottom: 0;padding: 0.3em;box-sizing: border-box;text-align: center;}#sk-container-id-1 label.sk-toggleable__label-arrow:before {content: \"▸\";float: left;margin-right: 0.25em;color: #696969;}#sk-container-id-1 label.sk-toggleable__label-arrow:hover:before {color: black;}#sk-container-id-1 div.sk-estimator:hover label.sk-toggleable__label-arrow:before {color: black;}#sk-container-id-1 div.sk-toggleable__content {max-height: 0;max-width: 0;overflow: hidden;text-align: left;background-color: #f0f8ff;}#sk-container-id-1 div.sk-toggleable__content pre {margin: 0.2em;color: black;border-radius: 0.25em;background-color: #f0f8ff;}#sk-container-id-1 input.sk-toggleable__control:checked~div.sk-toggleable__content {max-height: 200px;max-width: 100%;overflow: auto;}#sk-container-id-1 input.sk-toggleable__control:checked~label.sk-toggleable__label-arrow:before {content: \"▾\";}#sk-container-id-1 div.sk-estimator input.sk-toggleable__control:checked~label.sk-toggleable__label {background-color: #d4ebff;}#sk-container-id-1 div.sk-label input.sk-toggleable__control:checked~label.sk-toggleable__label {background-color: #d4ebff;}#sk-container-id-1 input.sk-hidden--visually {border: 0;clip: rect(1px 1px 1px 1px);clip: rect(1px, 1px, 1px, 1px);height: 1px;margin: -1px;overflow: hidden;padding: 0;position: absolute;width: 1px;}#sk-container-id-1 div.sk-estimator {font-family: monospace;background-color: #f0f8ff;border: 1px dotted black;border-radius: 0.25em;box-sizing: border-box;margin-bottom: 0.5em;}#sk-container-id-1 div.sk-estimator:hover {background-color: #d4ebff;}#sk-container-id-1 div.sk-parallel-item::after {content: \"\";width: 100%;border-bottom: 1px solid gray;flex-grow: 1;}#sk-container-id-1 div.sk-label:hover label.sk-toggleable__label {background-color: #d4ebff;}#sk-container-id-1 div.sk-serial::before {content: \"\";position: absolute;border-left: 1px solid gray;box-sizing: border-box;top: 0;bottom: 0;left: 50%;z-index: 0;}#sk-container-id-1 div.sk-serial {display: flex;flex-direction: column;align-items: center;background-color: white;padding-right: 0.2em;padding-left: 0.2em;position: relative;}#sk-container-id-1 div.sk-item {position: relative;z-index: 1;}#sk-container-id-1 div.sk-parallel {display: flex;align-items: stretch;justify-content: center;background-color: white;position: relative;}#sk-container-id-1 div.sk-item::before, #sk-container-id-1 div.sk-parallel-item::before {content: \"\";position: absolute;border-left: 1px solid gray;box-sizing: border-box;top: 0;bottom: 0;left: 50%;z-index: -1;}#sk-container-id-1 div.sk-parallel-item {display: flex;flex-direction: column;z-index: 1;position: relative;background-color: white;}#sk-container-id-1 div.sk-parallel-item:first-child::after {align-self: flex-end;width: 50%;}#sk-container-id-1 div.sk-parallel-item:last-child::after {align-self: flex-start;width: 50%;}#sk-container-id-1 div.sk-parallel-item:only-child::after {width: 0;}#sk-container-id-1 div.sk-dashed-wrapped {border: 1px dashed gray;margin: 0 0.4em 0.5em 0.4em;box-sizing: border-box;padding-bottom: 0.4em;background-color: white;}#sk-container-id-1 div.sk-label label {font-family: monospace;font-weight: bold;display: inline-block;line-height: 1.2em;}#sk-container-id-1 div.sk-label-container {text-align: center;}#sk-container-id-1 div.sk-container {/* jupyter's `normalize.less` sets `[hidden] { display: none; }` but bootstrap.min.css set `[hidden] { display: none !important; }` so we also need the `!important` here to be able to override the default hidden behavior on the sphinx rendered scikit-learn.org. See: https://github.com/scikit-learn/scikit-learn/issues/21755 */display: inline-block !important;position: relative;}#sk-container-id-1 div.sk-text-repr-fallback {display: none;}</style><div id=\"sk-container-id-1\" class=\"sk-top-container\"><div class=\"sk-text-repr-fallback\"><pre>LinearRegression()</pre><b>In a Jupyter environment, please rerun this cell to show the HTML representation or trust the notebook. <br />On GitHub, the HTML representation is unable to render, please try loading this page with nbviewer.org.</b></div><div class=\"sk-container\" hidden><div class=\"sk-item\"><div class=\"sk-estimator sk-toggleable\"><input class=\"sk-toggleable__control sk-hidden--visually\" id=\"sk-estimator-id-1\" type=\"checkbox\" checked><label for=\"sk-estimator-id-1\" class=\"sk-toggleable__label sk-toggleable__label-arrow\">LinearRegression</label><div class=\"sk-toggleable__content\"><pre>LinearRegression()</pre></div></div></div></div></div>"
            ]
          },
          "metadata": {},
          "execution_count": 37
        }
      ]
    },
    {
      "cell_type": "code",
      "source": [
        "y_pred = lr.predict(x_test)\n",
        "y_pred"
      ],
      "metadata": {
        "execution": {
          "iopub.status.busy": "2023-02-22T04:22:03.305778Z",
          "iopub.execute_input": "2023-02-22T04:22:03.306373Z",
          "iopub.status.idle": "2023-02-22T04:22:03.319225Z",
          "shell.execute_reply.started": "2023-02-22T04:22:03.306325Z",
          "shell.execute_reply": "2023-02-22T04:22:03.317968Z"
        },
        "trusted": true,
        "colab": {
          "base_uri": "https://localhost:8080/"
        },
        "id": "kLpfDNcbKfYs",
        "outputId": "fe4f8d9e-d824-4f6d-e928-c19dad05f0c0"
      },
      "execution_count": 38,
      "outputs": [
        {
          "output_type": "execute_result",
          "data": {
            "text/plain": [
              "array([1.11699271e+04, 9.48670909e+03, 3.81811231e+04, 1.62663133e+04,\n",
              "       6.91464801e+03, 3.96348488e+03, 1.57939691e+03, 1.43852566e+04,\n",
              "       9.01257970e+03, 7.50846068e+03, 4.49176728e+03, 1.02795839e+04,\n",
              "       8.80129751e+03, 3.79802013e+03, 2.79262010e+04, 1.07151158e+04,\n",
              "       1.12889756e+04, 6.10501768e+03, 8.24104117e+03, 2.71445089e+04,\n",
              "       3.36440910e+04, 1.43551043e+04, 1.17372043e+04, 3.21374335e+04,\n",
              "       4.17005913e+03, 9.25496051e+03, 1.08433751e+03, 9.80417085e+03,\n",
              "       3.77104596e+03, 1.04318587e+04, 9.00931722e+03, 4.00749509e+04,\n",
              "       1.56889543e+04, 1.38794545e+04, 2.47597127e+04, 5.16638285e+03,\n",
              "       1.26109277e+04, 3.07691018e+04, 3.35498325e+04, 3.67154946e+03,\n",
              "       3.97568613e+03, 3.98729942e+03, 3.05285774e+04, 3.95053023e+04,\n",
              "       2.78105036e+04, 5.09258923e+03, 1.06042481e+04, 7.82952256e+03,\n",
              "       3.59255553e+03, 1.02128745e+04, 5.72038147e+03, 3.42627499e+03,\n",
              "       3.30210242e+04, 3.84738218e+04, 1.60534782e+04, 7.16491905e+03,\n",
              "       5.73919977e+03, 9.45413291e+03, 8.91062701e+03, 1.17258857e+04,\n",
              "       1.85695629e+03, 3.89143605e+04, 1.48996730e+04, 1.18049582e+04,\n",
              "       1.40504025e+04, 1.40561445e+04, 2.58313858e+04, 3.22305543e+04,\n",
              "       8.14404366e+02, 1.01648424e+04, 1.23598596e+04, 1.15278235e+04,\n",
              "       2.52453261e+04, 1.56220088e+04, 1.12086899e+04, 1.26497320e+04,\n",
              "       6.55670777e+03, 9.59052489e+03, 3.01863021e+04, 3.91076220e+04,\n",
              "       1.20498440e+04, 3.72942684e+04, 4.26550696e+03, 9.39402362e+03,\n",
              "       3.48527716e+04, 2.88476976e+04, 8.68792419e+03, 4.92922782e+03,\n",
              "       1.20387310e+04, 3.04700336e+04, 1.00804115e+04, 1.13933297e+04,\n",
              "       8.39810225e+03, 8.89883547e+03, 8.43179031e+03, 7.32351973e+03,\n",
              "       3.60240264e+04, 3.31822505e+04, 7.66151070e+03, 1.51410434e+04,\n",
              "       4.01724462e+03, 8.82872049e+03, 6.32285473e+03, 3.15486188e+04,\n",
              "       3.29786059e+04, 1.97482884e+03, 9.02652020e+03, 6.69683477e+03,\n",
              "       1.45844352e+04, 3.72411416e+04, 1.01354727e+04, 1.05842948e+04,\n",
              "       1.02289339e+04, 2.69881891e+04, 3.99001531e+04, 8.46273248e+03,\n",
              "       2.96616055e+02, 9.01614987e+03, 1.52639740e+04, 9.52664600e+03,\n",
              "       3.51526354e+04, 7.26409791e+03, 1.69845335e+04, 9.65329622e+03,\n",
              "       8.24868725e+03, 2.94113601e+03, 3.29148059e+04, 3.14835586e+04,\n",
              "       3.96264776e+04, 5.60762983e+03, 9.31034135e+03, 3.59216725e+03,\n",
              "       7.64687550e+03, 8.62747451e+03, 3.17338367e+04, 2.99730030e+04,\n",
              "       2.97817459e+04, 8.72605750e+03, 3.24335307e+04, 3.36029421e+03,\n",
              "       3.70973675e+03, 1.11375495e+04, 1.31502938e+04, 1.28674710e+04,\n",
              "       5.44883743e+03, 1.55800620e+04, 1.49332492e+04, 2.40834350e+03,\n",
              "       2.55105191e+01, 1.08468131e+04, 7.40948170e+03, 3.18522280e+04,\n",
              "       1.23836972e+04, 2.33566633e+03, 6.47818023e+03, 7.85862923e+03,\n",
              "       4.44708534e+03, 2.11393087e+03, 1.13548234e+04, 1.25406264e+04,\n",
              "       7.26445489e+03, 1.63876100e+04, 1.18151028e+04, 1.41078734e+04,\n",
              "       3.18429940e+03, 7.29134465e+03, 2.31256976e+04, 7.59255833e+03,\n",
              "       5.49044860e+03, 5.20329589e+03, 6.75891084e+03, 5.19817369e+03,\n",
              "       1.00037544e+04, 5.37962241e+03, 5.73483115e+03, 6.64184520e+03,\n",
              "       3.69809973e+03, 5.56834710e+03, 3.80623106e+04, 1.50010025e+03,\n",
              "       1.26381400e+04, 8.96683074e+03, 1.37833538e+04, 5.40160572e+03,\n",
              "       5.18838626e+03, 3.64594383e+04, 4.39797382e+03, 2.04401666e+03,\n",
              "       1.52236399e+04, 1.26797512e+04, 3.51385215e+04, 4.78068826e+03,\n",
              "       5.68154275e+03, 3.12300371e+04, 6.20751775e+03, 2.15116663e+03,\n",
              "       8.43897221e+03, 1.00468638e+04, 8.00237197e+03, 5.80481228e+03,\n",
              "       1.31602625e+04, 3.84674533e+04, 1.37503227e+04, 2.88764140e+04,\n",
              "       6.78756483e+03, 3.55308164e+04, 3.76682638e+03, 1.18919418e+04,\n",
              "       9.05961188e+03, 6.25955354e+03, 1.13624630e+04, 1.45614575e+04,\n",
              "       5.16699954e+03, 4.46624724e+03, 7.90887368e+03, 1.34485587e+03,\n",
              "       7.85618662e+03, 4.41748996e+03, 1.28875526e+04, 4.24146225e+03,\n",
              "       1.01131120e+04, 7.19651081e+03, 9.29692707e+03, 2.39780639e+03,\n",
              "       1.32449759e+04, 1.68678325e+04, 1.49416610e+04, 1.05908697e+04,\n",
              "       5.29006788e+03, 2.23337923e+03, 1.93571212e+03, 1.35089298e+04,\n",
              "       1.40528682e+04, 5.01861017e+03, 3.75949429e+03, 9.48805737e+03,\n",
              "       9.97840316e+03, 2.82869768e+04, 7.64934971e+03, 1.04709900e+04,\n",
              "       6.32317041e+03, 2.98547629e+04, 1.11497389e+04, 7.50699533e+03,\n",
              "       1.02337020e+04, 1.22479679e+04, 3.00735612e+03, 1.08754195e+04,\n",
              "       1.54095549e+03, 7.03804311e+03, 2.84462147e+04, 3.86899494e+04,\n",
              "       6.36993923e+03, 8.19218360e+03, 2.53689093e+03, 4.46856827e+02,\n",
              "       1.05698935e+04, 4.20548633e+03, 4.95501030e+03, 2.34316816e+03,\n",
              "       6.80728001e+03, 3.34095038e+04, 3.82467605e+04, 1.47602310e+04,\n",
              "       8.27798435e+03, 1.61499734e+04, 3.29047581e+04, 9.46761406e+03])"
            ]
          },
          "metadata": {},
          "execution_count": 38
        }
      ]
    },
    {
      "cell_type": "code",
      "source": [
        "from sklearn.metrics import r2_score"
      ],
      "metadata": {
        "execution": {
          "iopub.status.busy": "2023-02-22T04:22:03.320729Z",
          "iopub.execute_input": "2023-02-22T04:22:03.321824Z",
          "iopub.status.idle": "2023-02-22T04:22:03.329082Z",
          "shell.execute_reply.started": "2023-02-22T04:22:03.321774Z",
          "shell.execute_reply": "2023-02-22T04:22:03.327932Z"
        },
        "trusted": true,
        "id": "TixOX6WcKfYv"
      },
      "execution_count": 39,
      "outputs": []
    },
    {
      "cell_type": "code",
      "source": [
        "r2_score(y_test, y_pred)"
      ],
      "metadata": {
        "execution": {
          "iopub.status.busy": "2023-02-22T04:22:03.330789Z",
          "iopub.execute_input": "2023-02-22T04:22:03.332905Z",
          "iopub.status.idle": "2023-02-22T04:22:03.346887Z",
          "shell.execute_reply.started": "2023-02-22T04:22:03.332860Z",
          "shell.execute_reply": "2023-02-22T04:22:03.345380Z"
        },
        "trusted": true,
        "colab": {
          "base_uri": "https://localhost:8080/"
        },
        "id": "MFolYCX7KfYw",
        "outputId": "9b7195ee-4524-4118-a5fe-8602715bf8fc"
      },
      "execution_count": 40,
      "outputs": [
        {
          "output_type": "execute_result",
          "data": {
            "text/plain": [
              "0.7999876970680433"
            ]
          },
          "metadata": {},
          "execution_count": 40
        }
      ]
    },
    {
      "cell_type": "markdown",
      "source": [
        "# Randomforest"
      ],
      "metadata": {
        "id": "_l3IxAXMKfYx"
      }
    },
    {
      "cell_type": "code",
      "source": [
        "from sklearn.ensemble import RandomForestRegressor\n",
        "rf = RandomForestRegressor()\n",
        "rf.fit(x_train, y_train)"
      ],
      "metadata": {
        "execution": {
          "iopub.status.busy": "2023-02-22T04:22:03.348954Z",
          "iopub.execute_input": "2023-02-22T04:22:03.350664Z",
          "iopub.status.idle": "2023-02-22T04:22:03.886616Z",
          "shell.execute_reply.started": "2023-02-22T04:22:03.350617Z",
          "shell.execute_reply": "2023-02-22T04:22:03.885508Z"
        },
        "trusted": true,
        "colab": {
          "base_uri": "https://localhost:8080/",
          "height": 74
        },
        "id": "Z3AT_uvPKfYz",
        "outputId": "3751031d-cb35-4015-db2b-80c5ac24071d"
      },
      "execution_count": 41,
      "outputs": [
        {
          "output_type": "execute_result",
          "data": {
            "text/plain": [
              "RandomForestRegressor()"
            ],
            "text/html": [
              "<style>#sk-container-id-2 {color: black;background-color: white;}#sk-container-id-2 pre{padding: 0;}#sk-container-id-2 div.sk-toggleable {background-color: white;}#sk-container-id-2 label.sk-toggleable__label {cursor: pointer;display: block;width: 100%;margin-bottom: 0;padding: 0.3em;box-sizing: border-box;text-align: center;}#sk-container-id-2 label.sk-toggleable__label-arrow:before {content: \"▸\";float: left;margin-right: 0.25em;color: #696969;}#sk-container-id-2 label.sk-toggleable__label-arrow:hover:before {color: black;}#sk-container-id-2 div.sk-estimator:hover label.sk-toggleable__label-arrow:before {color: black;}#sk-container-id-2 div.sk-toggleable__content {max-height: 0;max-width: 0;overflow: hidden;text-align: left;background-color: #f0f8ff;}#sk-container-id-2 div.sk-toggleable__content pre {margin: 0.2em;color: black;border-radius: 0.25em;background-color: #f0f8ff;}#sk-container-id-2 input.sk-toggleable__control:checked~div.sk-toggleable__content {max-height: 200px;max-width: 100%;overflow: auto;}#sk-container-id-2 input.sk-toggleable__control:checked~label.sk-toggleable__label-arrow:before {content: \"▾\";}#sk-container-id-2 div.sk-estimator input.sk-toggleable__control:checked~label.sk-toggleable__label {background-color: #d4ebff;}#sk-container-id-2 div.sk-label input.sk-toggleable__control:checked~label.sk-toggleable__label {background-color: #d4ebff;}#sk-container-id-2 input.sk-hidden--visually {border: 0;clip: rect(1px 1px 1px 1px);clip: rect(1px, 1px, 1px, 1px);height: 1px;margin: -1px;overflow: hidden;padding: 0;position: absolute;width: 1px;}#sk-container-id-2 div.sk-estimator {font-family: monospace;background-color: #f0f8ff;border: 1px dotted black;border-radius: 0.25em;box-sizing: border-box;margin-bottom: 0.5em;}#sk-container-id-2 div.sk-estimator:hover {background-color: #d4ebff;}#sk-container-id-2 div.sk-parallel-item::after {content: \"\";width: 100%;border-bottom: 1px solid gray;flex-grow: 1;}#sk-container-id-2 div.sk-label:hover label.sk-toggleable__label {background-color: #d4ebff;}#sk-container-id-2 div.sk-serial::before {content: \"\";position: absolute;border-left: 1px solid gray;box-sizing: border-box;top: 0;bottom: 0;left: 50%;z-index: 0;}#sk-container-id-2 div.sk-serial {display: flex;flex-direction: column;align-items: center;background-color: white;padding-right: 0.2em;padding-left: 0.2em;position: relative;}#sk-container-id-2 div.sk-item {position: relative;z-index: 1;}#sk-container-id-2 div.sk-parallel {display: flex;align-items: stretch;justify-content: center;background-color: white;position: relative;}#sk-container-id-2 div.sk-item::before, #sk-container-id-2 div.sk-parallel-item::before {content: \"\";position: absolute;border-left: 1px solid gray;box-sizing: border-box;top: 0;bottom: 0;left: 50%;z-index: -1;}#sk-container-id-2 div.sk-parallel-item {display: flex;flex-direction: column;z-index: 1;position: relative;background-color: white;}#sk-container-id-2 div.sk-parallel-item:first-child::after {align-self: flex-end;width: 50%;}#sk-container-id-2 div.sk-parallel-item:last-child::after {align-self: flex-start;width: 50%;}#sk-container-id-2 div.sk-parallel-item:only-child::after {width: 0;}#sk-container-id-2 div.sk-dashed-wrapped {border: 1px dashed gray;margin: 0 0.4em 0.5em 0.4em;box-sizing: border-box;padding-bottom: 0.4em;background-color: white;}#sk-container-id-2 div.sk-label label {font-family: monospace;font-weight: bold;display: inline-block;line-height: 1.2em;}#sk-container-id-2 div.sk-label-container {text-align: center;}#sk-container-id-2 div.sk-container {/* jupyter's `normalize.less` sets `[hidden] { display: none; }` but bootstrap.min.css set `[hidden] { display: none !important; }` so we also need the `!important` here to be able to override the default hidden behavior on the sphinx rendered scikit-learn.org. See: https://github.com/scikit-learn/scikit-learn/issues/21755 */display: inline-block !important;position: relative;}#sk-container-id-2 div.sk-text-repr-fallback {display: none;}</style><div id=\"sk-container-id-2\" class=\"sk-top-container\"><div class=\"sk-text-repr-fallback\"><pre>RandomForestRegressor()</pre><b>In a Jupyter environment, please rerun this cell to show the HTML representation or trust the notebook. <br />On GitHub, the HTML representation is unable to render, please try loading this page with nbviewer.org.</b></div><div class=\"sk-container\" hidden><div class=\"sk-item\"><div class=\"sk-estimator sk-toggleable\"><input class=\"sk-toggleable__control sk-hidden--visually\" id=\"sk-estimator-id-2\" type=\"checkbox\" checked><label for=\"sk-estimator-id-2\" class=\"sk-toggleable__label sk-toggleable__label-arrow\">RandomForestRegressor</label><div class=\"sk-toggleable__content\"><pre>RandomForestRegressor()</pre></div></div></div></div></div>"
            ]
          },
          "metadata": {},
          "execution_count": 41
        }
      ]
    },
    {
      "cell_type": "code",
      "source": [
        "y_pred_rf = rf.predict(x_test)\n",
        "y_pred_rf"
      ],
      "metadata": {
        "execution": {
          "iopub.status.busy": "2023-02-22T04:22:03.887848Z",
          "iopub.execute_input": "2023-02-22T04:22:03.890534Z",
          "iopub.status.idle": "2023-02-22T04:22:03.919680Z",
          "shell.execute_reply.started": "2023-02-22T04:22:03.890498Z",
          "shell.execute_reply": "2023-02-22T04:22:03.918282Z"
        },
        "trusted": true,
        "colab": {
          "base_uri": "https://localhost:8080/"
        },
        "id": "eyYVPNLlKfY0",
        "outputId": "bc7e3e5e-ea17-4ed0-cc56-e28a1aff1dd1"
      },
      "execution_count": 42,
      "outputs": [
        {
          "output_type": "execute_result",
          "data": {
            "text/plain": [
              "array([10245.9858357 ,  9787.1860621 , 44901.3358461 , 13382.207227  ,\n",
              "        9946.3969433 , 11331.4698575 ,  2105.618029  , 12694.7062828 ,\n",
              "        7235.5788305 ,  5965.702267  ,  7243.6866075 , 16936.7067909 ,\n",
              "        9281.1630367 ,  6270.9582906 , 24019.6745421 , 13079.5742763 ,\n",
              "       13375.1452844 ,  7775.7683371 ,  6451.9644453 , 34121.141383  ,\n",
              "       23980.8785445 , 13114.5869833 , 10314.5809243 , 27191.1254435 ,\n",
              "        3348.6979027 ,  4923.4069302 ,  5986.0623057 ,  8604.646017  ,\n",
              "        4009.6101344 , 12266.9791695 ,  7794.0920158 , 48467.707292  ,\n",
              "       14484.7575341 , 10879.5152489 , 15447.4926881 ,  4149.131858  ,\n",
              "        9024.8882495 , 38138.9034713 , 39749.4701715 ,  6664.6004073 ,\n",
              "       10024.997775  ,  3992.1210463 , 20591.2183343 , 47701.5510024 ,\n",
              "       36937.8520142 ,  4758.1286256 , 13077.7517568 ,  6782.707846  ,\n",
              "        5048.171378  , 14564.099076  ,  3139.189885  , 12996.8386885 ,\n",
              "       27319.9308849 , 49027.0452079 , 11711.5306475 ,  6148.9465723 ,\n",
              "        2631.714895  , 12730.4825391 , 10121.3251195 , 18432.3085903 ,\n",
              "        1583.9191013 , 47385.880653  , 17089.0913204 , 13120.4131086 ,\n",
              "       15590.0829918 , 10520.651045  , 33883.8487265 , 41842.9595242 ,\n",
              "        6338.9577638 , 12197.5215044 , 16318.6419899 , 12183.7229776 ,\n",
              "       19457.534594  , 14039.6772422 , 13689.1438569 , 15835.5776318 ,\n",
              "       10535.7855225 , 15656.3052746 , 19711.351855  , 47930.50894   ,\n",
              "       11605.407119  , 49381.097697  ,  2793.4195432 , 10424.9395021 ,\n",
              "       40894.8927851 , 19261.7182332 ,  3456.1725305 ,  4023.9037217 ,\n",
              "       16096.3502835 , 39198.3616175 ,  5977.3666068 , 12853.7974758 ,\n",
              "        2951.8780635 ,  9878.224223  ,  5971.051636  ,  5106.0533229 ,\n",
              "       42967.5912854 , 52428.542581  ,  5645.7855942 , 10883.108982  ,\n",
              "        3161.9434677 ,  6091.287682  ,  6586.0663845 , 38728.4583015 ,\n",
              "       25866.4082196 ,  5066.2745906 , 11164.5441165 ,  8538.8030325 ,\n",
              "       11699.963514  , 46044.2091115 , 12658.0808646 ,  7387.3333242 ,\n",
              "       11527.4785939 , 34594.8366069 , 47655.0879186 ,  7284.8243124 ,\n",
              "        2076.2095018 , 10521.7732578 , 22797.9182309 , 11315.5482044 ,\n",
              "       41532.843499  , 12500.7324987 , 14437.598095  ,  8447.7895543 ,\n",
              "        9334.0118742 ,  5566.0075525 , 26998.5381771 , 26366.2863956 ,\n",
              "       48420.7504638 ,  1804.983323  , 16454.8492914 ,  4321.4123581 ,\n",
              "        5977.2373299 ,  8988.6446415 , 42009.148762  , 38091.0735283 ,\n",
              "       23894.8285996 , 12886.9878837 , 23765.9536345 ,  7985.5659813 ,\n",
              "        2240.6253395 , 12183.5911509 ,  9804.4512458 , 11060.5080072 ,\n",
              "        6290.179083  , 14571.106329  , 20570.0501064 , 10260.0693047 ,\n",
              "        1634.8502875 , 11547.708107  ,  6287.8086683 , 39500.401925  ,\n",
              "       10928.377992  ,  6960.20337037,  7642.9779407 ,  8146.6330426 ,\n",
              "        3215.6000101 ,  4456.62159595, 12826.0797002 , 10627.9719202 ,\n",
              "       10099.0392774 , 13262.9521615 , 13787.0139631 ,  9840.4428747 ,\n",
              "        4945.2951021 , 11354.2263329 , 16500.4743331 ,  6652.2614767 ,\n",
              "        4819.2421165 ,  2217.96414055, 10529.0094265 ,  7205.8994191 ,\n",
              "       13899.1830695 ,  2246.5934127 ,  8205.4998043 , 11432.5184067 ,\n",
              "        6190.4822946 ,  7707.6069036 , 27866.522822  ,  1724.510705  ,\n",
              "       19292.1274689 ,  7149.2161892 , 11526.1945855 ,  5424.7198618 ,\n",
              "        7819.3545284 , 28406.6914757 ,  2722.305963  ,  2953.5789306 ,\n",
              "       14366.7924617 , 12011.9242593 , 41315.4623115 ,  4940.7279951 ,\n",
              "        5476.8462117 , 24518.6228238 ,  2714.908048  ,  5687.4244501 ,\n",
              "        8711.5778322 ,  7176.0227233 ,  7777.2728607 ,  4404.1785095 ,\n",
              "       12239.0975511 , 46785.911838  , 13500.3140923 , 18993.933812  ,\n",
              "        7143.6769005 , 42789.3181473 ,  6646.0336618 , 13061.630368  ,\n",
              "        6586.077652  ,  1246.101219  , 12472.0326974 , 13589.845788  ,\n",
              "        7302.1134854 ,  5997.2468429 ,  6744.389369  ,  8300.0087139 ,\n",
              "        6858.5145789 ,  6578.217088  , 14358.9662715 ,  6992.0060647 ,\n",
              "       10354.5072574 ,  8183.0293858 , 14953.968126  ,  4592.7841388 ,\n",
              "       12890.4445427 , 14829.7020217 , 16738.7610542 , 11887.3123197 ,\n",
              "        7627.7698114 ,  3909.0226424 ,  6276.5290075 ,  8505.3345721 ,\n",
              "       14362.8676206 ,  7449.6146026 ,  5735.4175231 ,  7123.0666118 ,\n",
              "       14371.4187453 , 34423.5643755 ,  5777.5639665 , 15105.6396003 ,\n",
              "        6219.2607317 , 37835.7444381 ,  7654.5907951 ,  7144.5972739 ,\n",
              "       13896.9328247 , 12303.1205896 ,  5433.0188798 ,  9814.1556216 ,\n",
              "        2411.7241365 ,  6992.2379394 , 19462.368869  , 47047.693018  ,\n",
              "        3845.839768  ,  4319.182887  ,  3502.69623915,  1693.1268165 ,\n",
              "        8201.2860546 ,  2450.38385904, 10052.1439488 ,  9540.6658724 ,\n",
              "        8970.6743855 , 25615.2663547 , 46249.0351365 , 16056.3602587 ,\n",
              "        6630.2061485 , 11411.8312915 , 42348.2925554 ,  9791.5529387 ])"
            ]
          },
          "metadata": {},
          "execution_count": 42
        }
      ]
    },
    {
      "cell_type": "code",
      "source": [
        "r2_score(y_test, y_pred_rf)"
      ],
      "metadata": {
        "execution": {
          "iopub.status.busy": "2023-02-22T04:22:03.921242Z",
          "iopub.execute_input": "2023-02-22T04:22:03.921643Z",
          "iopub.status.idle": "2023-02-22T04:22:03.930807Z",
          "shell.execute_reply.started": "2023-02-22T04:22:03.921609Z",
          "shell.execute_reply": "2023-02-22T04:22:03.929550Z"
        },
        "trusted": true,
        "colab": {
          "base_uri": "https://localhost:8080/"
        },
        "id": "kC4Ho_rMKfY1",
        "outputId": "ead28432-d172-416d-dc15-442d022cea60"
      },
      "execution_count": 43,
      "outputs": [
        {
          "output_type": "execute_result",
          "data": {
            "text/plain": [
              "0.877583192902744"
            ]
          },
          "metadata": {},
          "execution_count": 43
        }
      ]
    },
    {
      "cell_type": "markdown",
      "source": [
        "# XG boost"
      ],
      "metadata": {
        "id": "ywTcDjwLKfY2"
      }
    },
    {
      "cell_type": "code",
      "source": [
        "from xgboost import XGBRFRegressor\n",
        "regressor_xgb = XGBRFRegressor()\n",
        "regressor_xgb.fit(x_train, y_train)"
      ],
      "metadata": {
        "execution": {
          "iopub.status.busy": "2023-02-22T04:22:03.932363Z",
          "iopub.execute_input": "2023-02-22T04:22:03.933252Z",
          "iopub.status.idle": "2023-02-22T04:22:04.910343Z",
          "shell.execute_reply.started": "2023-02-22T04:22:03.933188Z",
          "shell.execute_reply": "2023-02-22T04:22:04.909257Z"
        },
        "trusted": true,
        "colab": {
          "base_uri": "https://localhost:8080/",
          "height": 252
        },
        "id": "ktWj02APKfY2",
        "outputId": "7a5a1204-e7a5-4db4-b046-d6c08acd78bb"
      },
      "execution_count": 44,
      "outputs": [
        {
          "output_type": "execute_result",
          "data": {
            "text/plain": [
              "XGBRFRegressor(base_score=None, booster=None, callbacks=None,\n",
              "               colsample_bylevel=None, colsample_bytree=None,\n",
              "               early_stopping_rounds=None, enable_categorical=False,\n",
              "               eval_metric=None, feature_types=None, gamma=None, gpu_id=None,\n",
              "               grow_policy=None, importance_type=None,\n",
              "               interaction_constraints=None, max_bin=None,\n",
              "               max_cat_threshold=None, max_cat_to_onehot=None,\n",
              "               max_delta_step=None, max_depth=None, max_leaves=None,\n",
              "               min_child_weight=None, missing=nan, monotone_constraints=None,\n",
              "               n_estimators=100, n_jobs=None, num_parallel_tree=None,\n",
              "               objective='reg:squarederror', predictor=None, random_state=None,\n",
              "               reg_alpha=None, ...)"
            ],
            "text/html": [
              "<style>#sk-container-id-3 {color: black;background-color: white;}#sk-container-id-3 pre{padding: 0;}#sk-container-id-3 div.sk-toggleable {background-color: white;}#sk-container-id-3 label.sk-toggleable__label {cursor: pointer;display: block;width: 100%;margin-bottom: 0;padding: 0.3em;box-sizing: border-box;text-align: center;}#sk-container-id-3 label.sk-toggleable__label-arrow:before {content: \"▸\";float: left;margin-right: 0.25em;color: #696969;}#sk-container-id-3 label.sk-toggleable__label-arrow:hover:before {color: black;}#sk-container-id-3 div.sk-estimator:hover label.sk-toggleable__label-arrow:before {color: black;}#sk-container-id-3 div.sk-toggleable__content {max-height: 0;max-width: 0;overflow: hidden;text-align: left;background-color: #f0f8ff;}#sk-container-id-3 div.sk-toggleable__content pre {margin: 0.2em;color: black;border-radius: 0.25em;background-color: #f0f8ff;}#sk-container-id-3 input.sk-toggleable__control:checked~div.sk-toggleable__content {max-height: 200px;max-width: 100%;overflow: auto;}#sk-container-id-3 input.sk-toggleable__control:checked~label.sk-toggleable__label-arrow:before {content: \"▾\";}#sk-container-id-3 div.sk-estimator input.sk-toggleable__control:checked~label.sk-toggleable__label {background-color: #d4ebff;}#sk-container-id-3 div.sk-label input.sk-toggleable__control:checked~label.sk-toggleable__label {background-color: #d4ebff;}#sk-container-id-3 input.sk-hidden--visually {border: 0;clip: rect(1px 1px 1px 1px);clip: rect(1px, 1px, 1px, 1px);height: 1px;margin: -1px;overflow: hidden;padding: 0;position: absolute;width: 1px;}#sk-container-id-3 div.sk-estimator {font-family: monospace;background-color: #f0f8ff;border: 1px dotted black;border-radius: 0.25em;box-sizing: border-box;margin-bottom: 0.5em;}#sk-container-id-3 div.sk-estimator:hover {background-color: #d4ebff;}#sk-container-id-3 div.sk-parallel-item::after {content: \"\";width: 100%;border-bottom: 1px solid gray;flex-grow: 1;}#sk-container-id-3 div.sk-label:hover label.sk-toggleable__label {background-color: #d4ebff;}#sk-container-id-3 div.sk-serial::before {content: \"\";position: absolute;border-left: 1px solid gray;box-sizing: border-box;top: 0;bottom: 0;left: 50%;z-index: 0;}#sk-container-id-3 div.sk-serial {display: flex;flex-direction: column;align-items: center;background-color: white;padding-right: 0.2em;padding-left: 0.2em;position: relative;}#sk-container-id-3 div.sk-item {position: relative;z-index: 1;}#sk-container-id-3 div.sk-parallel {display: flex;align-items: stretch;justify-content: center;background-color: white;position: relative;}#sk-container-id-3 div.sk-item::before, #sk-container-id-3 div.sk-parallel-item::before {content: \"\";position: absolute;border-left: 1px solid gray;box-sizing: border-box;top: 0;bottom: 0;left: 50%;z-index: -1;}#sk-container-id-3 div.sk-parallel-item {display: flex;flex-direction: column;z-index: 1;position: relative;background-color: white;}#sk-container-id-3 div.sk-parallel-item:first-child::after {align-self: flex-end;width: 50%;}#sk-container-id-3 div.sk-parallel-item:last-child::after {align-self: flex-start;width: 50%;}#sk-container-id-3 div.sk-parallel-item:only-child::after {width: 0;}#sk-container-id-3 div.sk-dashed-wrapped {border: 1px dashed gray;margin: 0 0.4em 0.5em 0.4em;box-sizing: border-box;padding-bottom: 0.4em;background-color: white;}#sk-container-id-3 div.sk-label label {font-family: monospace;font-weight: bold;display: inline-block;line-height: 1.2em;}#sk-container-id-3 div.sk-label-container {text-align: center;}#sk-container-id-3 div.sk-container {/* jupyter's `normalize.less` sets `[hidden] { display: none; }` but bootstrap.min.css set `[hidden] { display: none !important; }` so we also need the `!important` here to be able to override the default hidden behavior on the sphinx rendered scikit-learn.org. See: https://github.com/scikit-learn/scikit-learn/issues/21755 */display: inline-block !important;position: relative;}#sk-container-id-3 div.sk-text-repr-fallback {display: none;}</style><div id=\"sk-container-id-3\" class=\"sk-top-container\"><div class=\"sk-text-repr-fallback\"><pre>XGBRFRegressor(base_score=None, booster=None, callbacks=None,\n",
              "               colsample_bylevel=None, colsample_bytree=None,\n",
              "               early_stopping_rounds=None, enable_categorical=False,\n",
              "               eval_metric=None, feature_types=None, gamma=None, gpu_id=None,\n",
              "               grow_policy=None, importance_type=None,\n",
              "               interaction_constraints=None, max_bin=None,\n",
              "               max_cat_threshold=None, max_cat_to_onehot=None,\n",
              "               max_delta_step=None, max_depth=None, max_leaves=None,\n",
              "               min_child_weight=None, missing=nan, monotone_constraints=None,\n",
              "               n_estimators=100, n_jobs=None, num_parallel_tree=None,\n",
              "               objective=&#x27;reg:squarederror&#x27;, predictor=None, random_state=None,\n",
              "               reg_alpha=None, ...)</pre><b>In a Jupyter environment, please rerun this cell to show the HTML representation or trust the notebook. <br />On GitHub, the HTML representation is unable to render, please try loading this page with nbviewer.org.</b></div><div class=\"sk-container\" hidden><div class=\"sk-item\"><div class=\"sk-estimator sk-toggleable\"><input class=\"sk-toggleable__control sk-hidden--visually\" id=\"sk-estimator-id-3\" type=\"checkbox\" checked><label for=\"sk-estimator-id-3\" class=\"sk-toggleable__label sk-toggleable__label-arrow\">XGBRFRegressor</label><div class=\"sk-toggleable__content\"><pre>XGBRFRegressor(base_score=None, booster=None, callbacks=None,\n",
              "               colsample_bylevel=None, colsample_bytree=None,\n",
              "               early_stopping_rounds=None, enable_categorical=False,\n",
              "               eval_metric=None, feature_types=None, gamma=None, gpu_id=None,\n",
              "               grow_policy=None, importance_type=None,\n",
              "               interaction_constraints=None, max_bin=None,\n",
              "               max_cat_threshold=None, max_cat_to_onehot=None,\n",
              "               max_delta_step=None, max_depth=None, max_leaves=None,\n",
              "               min_child_weight=None, missing=nan, monotone_constraints=None,\n",
              "               n_estimators=100, n_jobs=None, num_parallel_tree=None,\n",
              "               objective=&#x27;reg:squarederror&#x27;, predictor=None, random_state=None,\n",
              "               reg_alpha=None, ...)</pre></div></div></div></div></div>"
            ]
          },
          "metadata": {},
          "execution_count": 44
        }
      ]
    },
    {
      "cell_type": "code",
      "source": [
        "y_pred_xgb = regressor_xgb.predict(x_test)\n",
        "y_pred_xgb"
      ],
      "metadata": {
        "execution": {
          "iopub.status.busy": "2023-02-22T04:22:04.911686Z",
          "iopub.execute_input": "2023-02-22T04:22:04.912481Z",
          "iopub.status.idle": "2023-02-22T04:22:04.929649Z",
          "shell.execute_reply.started": "2023-02-22T04:22:04.912449Z",
          "shell.execute_reply": "2023-02-22T04:22:04.928602Z"
        },
        "trusted": true,
        "colab": {
          "base_uri": "https://localhost:8080/"
        },
        "id": "bihX0vFUKfY3",
        "outputId": "f6d632d9-0c0a-46eb-ed73-cf9c721cc66a"
      },
      "execution_count": 45,
      "outputs": [
        {
          "output_type": "execute_result",
          "data": {
            "text/plain": [
              "array([12058.127 , 10265.056 , 44051.996 , 14142.8545, 10561.935 ,\n",
              "        7561.4834,  2432.5679, 13287.392 ,  7346.294 ,  6773.392 ,\n",
              "        6606.1675, 14016.326 ,  9238.723 ,  5367.3936, 22862.375 ,\n",
              "       12252.858 , 14449.633 ,  5611.447 ,  6968.605 , 34510.062 ,\n",
              "       24281.33  , 15688.968 , 12024.785 , 27575.611 ,  3177.4856,\n",
              "        6564.208 ,  5962.0874,  7536.3223,  4315.0635, 10422.395 ,\n",
              "        7384.263 , 46732.812 , 13917.667 , 11552.406 , 16478.514 ,\n",
              "        4471.5566,  9460.232 , 39083.934 , 40876.8   ,  3162.1106,\n",
              "        7463.2036,  4382.231 , 19852.611 , 47552.906 , 37237.125 ,\n",
              "        6368.203 , 12252.858 ,  7123.0747,  6135.661 , 12468.037 ,\n",
              "        3919.5708,  7918.551 , 27291.822 , 47186.945 , 11598.098 ,\n",
              "        5152.155 ,  3822.7317, 11434.305 , 10372.342 , 16538.904 ,\n",
              "        2607.4695, 46609.234 , 16137.705 , 12243.9375, 11204.922 ,\n",
              "       10535.699 , 33848.203 , 41660.848 ,  5435.288 ,  9370.524 ,\n",
              "       14317.965 , 12329.206 , 18068.488 , 14082.773 , 14008.198 ,\n",
              "       14148.454 ,  9289.8125, 10405.645 , 19862.223 , 46856.875 ,\n",
              "       12101.109 , 47720.64  ,  3028.946 , 10342.272 , 41177.535 ,\n",
              "       19712.979 ,  4743.3354,  3982.2947, 14641.684 , 38763.38  ,\n",
              "        6718.788 , 12007.328 ,  3798.3198, 10105.033 ,  6003.6646,\n",
              "        6643.2153, 44918.72  , 49819.35  ,  6803.438 , 11351.5   ,\n",
              "        3873.2114,  6773.031 ,  6371.5957, 39479.54  , 26520.484 ,\n",
              "        5385.6733, 12020.201 ,  5344.584 , 11691.768 , 45628.68  ,\n",
              "       14763.233 ,  6333.3496, 11416.6045, 34691.062 , 46344.473 ,\n",
              "        7357.272 ,  3061.487 , 11395.301 , 17749.906 , 10148.617 ,\n",
              "       41877.133 , 12430.517 , 13819.471 ,  6769.5596,  9359.661 ,\n",
              "        6432.9165, 26955.684 , 26754.385 , 47066.1   ,  3054.4307,\n",
              "       10688.367 ,  4747.7646,  6908.468 , 10550.929 , 40781.984 ,\n",
              "       39006.617 , 25159.652 , 12209.593 , 24246.773 ,  5541.9697,\n",
              "        3097.7334, 12347.201 ,  9968.774 , 11915.651 ,  6322.977 ,\n",
              "       13963.005 , 17665.1   ,  6157.862 ,  2235.123 , 12536.869 ,\n",
              "        6846.583 , 39120.105 , 11199.025 ,  4967.685 ,  5283.154 ,\n",
              "        7557.1113,  4500.895 ,  4348.821 , 13238.806 , 10798.022 ,\n",
              "        7256.329 , 13807.37  , 14068.375 , 10440.594 ,  5102.252 ,\n",
              "        8460.111 , 16078.52  ,  6962.341 ,  6234.0464,  3170.5964,\n",
              "        7229.318 ,  6791.827 , 10523.702 ,  4008.3699,  6829.49  ,\n",
              "        8369.006 ,  6510.004 ,  7276.324 , 28522.904 ,  2352.8914,\n",
              "       15758.035 ,  7166.3174, 11838.131 ,  4373.223 ,  6640.438 ,\n",
              "       27793.812 ,  3119.0237,  3072.868 , 14150.509 , 11072.4795,\n",
              "       42118.164 ,  6371.5107,  6199.3735, 25463.543 ,  3821.2693,\n",
              "        4400.9355,  7286.2476,  7063.6743,  6323.819 ,  6245.1436,\n",
              "       12298.564 , 45776.754 , 15584.602 , 19676.324 ,  7002.699 ,\n",
              "       43162.277 ,  6021.331 , 12126.988 ,  6669.16  ,  3151.1357,\n",
              "       11303.702 , 13898.363 ,  6857.511 ,  3960.6433,  7097.9834,\n",
              "        5086.419 ,  6724.363 ,  6448.512 , 14842.486 ,  7152.5117,\n",
              "        7053.286 ,  7398.837 , 11219.15  ,  4374.611 , 11887.906 ,\n",
              "       14135.431 , 15235.854 , 12262.088 ,  6990.1714,  4175.7095,\n",
              "        4180.0044,  9838.095 , 14314.993 ,  6757.371 ,  5805.072 ,\n",
              "        7316.988 , 11726.914 , 34763.63  ,  6845.1035, 13567.137 ,\n",
              "        6441.095 , 37780.47  ,  7575.795 ,  8625.139 , 10381.078 ,\n",
              "       12240.721 ,  5129.9404,  9545.831 ,  2542.379 ,  7171.1045,\n",
              "       19620.256 , 45916.074 ,  5087.9766,  5493.4824,  2853.579 ,\n",
              "        2325.664 , 10255.651 ,  3297.3228,  7948.061 ,  6972.8296,\n",
              "        9196.427 , 25435.572 , 45577.473 , 16173.941 ,  7123.0747,\n",
              "       11370.3   , 42519.836 ,  9971.935 ], dtype=float32)"
            ]
          },
          "metadata": {},
          "execution_count": 45
        }
      ]
    },
    {
      "cell_type": "code",
      "source": [
        "r2_score(y_test, y_pred_xgb)"
      ],
      "metadata": {
        "execution": {
          "iopub.status.busy": "2023-02-22T04:22:04.930901Z",
          "iopub.execute_input": "2023-02-22T04:22:04.931494Z",
          "iopub.status.idle": "2023-02-22T04:22:04.938477Z",
          "shell.execute_reply.started": "2023-02-22T04:22:04.931459Z",
          "shell.execute_reply": "2023-02-22T04:22:04.937589Z"
        },
        "trusted": true,
        "colab": {
          "base_uri": "https://localhost:8080/"
        },
        "id": "nvjeM_-7KfY4",
        "outputId": "23f8f1ee-0224-4e3d-f0e8-72f7feaa51ea"
      },
      "execution_count": 46,
      "outputs": [
        {
          "output_type": "execute_result",
          "data": {
            "text/plain": [
              "0.8953971644895995"
            ]
          },
          "metadata": {},
          "execution_count": 46
        }
      ]
    },
    {
      "cell_type": "code",
      "source": [],
      "metadata": {
        "id": "6ZQx-1MVLbai"
      },
      "execution_count": 46,
      "outputs": []
    }
  ]
}